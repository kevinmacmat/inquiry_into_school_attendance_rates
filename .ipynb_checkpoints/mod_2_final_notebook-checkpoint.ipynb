{
 "cells": [
  {
   "cell_type": "markdown",
   "metadata": {},
   "source": [
    "---"
   ]
  },
  {
   "cell_type": "markdown",
   "metadata": {},
   "source": [
    "# <font color='yellow'>Import Modules & Read Data</font>"
   ]
  },
  {
   "cell_type": "markdown",
   "metadata": {},
   "source": [
    "---"
   ]
  },
  {
   "cell_type": "code",
   "execution_count": 12,
   "metadata": {},
   "outputs": [],
   "source": [
    "import pandas as pd\n",
    "import matplotlib.pyplot as plt\n",
    "import seaborn as sns\n",
    "import numpy as np\n",
    "import statsmodels.api as sm\n",
    "import pickle\n",
    "import scipy.stats as stats\n",
    "from statsmodels.formula.api import ols\n",
    "from sklearn.model_selection import train_test_split\n",
    "from sklearn.linear_model import LinearRegression\n",
    "from sklearn.linear_model import Lasso\n",
    "from sklearn.preprocessing import StandardScaler\n",
    "from sklearn import metrics"
   ]
  },
  {
   "cell_type": "code",
   "execution_count": 13,
   "metadata": {},
   "outputs": [],
   "source": [
    "df = pd.read_csv('sqr.csv', index_col=False)"
   ]
  },
  {
   "cell_type": "markdown",
   "metadata": {},
   "source": [
    "---"
   ]
  },
  {
   "cell_type": "markdown",
   "metadata": {},
   "source": [
    "# <font color='yellow'>Intro</font>"
   ]
  },
  {
   "cell_type": "markdown",
   "metadata": {},
   "source": [
    "---"
   ]
  },
  {
   "cell_type": "markdown",
   "metadata": {},
   "source": [
    "## Approach"
   ]
  },
  {
   "cell_type": "markdown",
   "metadata": {},
   "source": [
    "---"
   ]
  },
  {
   "cell_type": "markdown",
   "metadata": {},
   "source": [
    "I intend to discover which variables, in the NYC School Quality Report (SQR) for the 2018-19 school year, most affect student attendance rates for NYC's public schools. In my data cleaning process I eliminated charter schools because many choose not to be evaluated by the SQR and instead are evaluated by means authorized by the Chancellor, State University of New York Trustees, and/or by the NY State Education Board of Regents. The vast majority of my parameters are in percentages so a linear regression model will be used to analyze the independents variables' relationship to the attendance rates. "
   ]
  },
  {
   "cell_type": "markdown",
   "metadata": {},
   "source": [
    "---"
   ]
  },
  {
   "cell_type": "markdown",
   "metadata": {},
   "source": [
    "## Big Questions"
   ]
  },
  {
   "cell_type": "markdown",
   "metadata": {},
   "source": [
    "---"
   ]
  },
  {
   "cell_type": "markdown",
   "metadata": {},
   "source": [
    "**3 meaningful questions:**<br>\n",
    "- Do schools within the highest quarter of the Economic Need Index have attendance rates below the average?<br>\n",
    "- Is there a statistically significant difference between teachers with 3 or more years of experience and student attendance rates?<br>\n",
    "- Is there a strong negative correlation between schools with a high percentage of chronic absences and attendance rates?<br>"
   ]
  },
  {
   "cell_type": "markdown",
   "metadata": {},
   "source": [
    "---"
   ]
  },
  {
   "cell_type": "markdown",
   "metadata": {},
   "source": [
    "# <font color='yellow'>Engineered Features</font>"
   ]
  },
  {
   "cell_type": "markdown",
   "metadata": {},
   "source": [
    "Make a new column with values 0-25 = 4, 25-50 = 3, 50-75 = 2, 75-1 = 1"
   ]
  },
  {
   "cell_type": "code",
   "execution_count": 20,
   "metadata": {},
   "outputs": [],
   "source": [
    "df['economic_need_index_cat'] = pd.cut(df.economic_need_index, bins=[0,.25,.50,.75,1], labels=[4,3,2,1])"
   ]
  },
  {
   "cell_type": "markdown",
   "metadata": {},
   "source": [
    "Upper 75% of economic need index"
   ]
  },
  {
   "cell_type": "code",
   "execution_count": 40,
   "metadata": {},
   "outputs": [],
   "source": [
    "df['75_pct_economic_need_index'] = np.where((df.economic_need_index >= .75), 1, 0)"
   ]
  },
  {
   "cell_type": "markdown",
   "metadata": {},
   "source": [
    "According to non-profit edbuild.org majority \"white\" (more than 75% white) school districts receive $23 billion more than non-white schools (https://edbuild.org/content/23-billion/full-report.pdf). I made a columns to represent schools with majority populations of a single race."
   ]
  },
  {
   "cell_type": "code",
   "execution_count": 26,
   "metadata": {},
   "outputs": [],
   "source": [
    "df['majority_white'] = np.where((df.white >= .75), 1, 0)"
   ]
  },
  {
   "cell_type": "code",
   "execution_count": 31,
   "metadata": {},
   "outputs": [],
   "source": [
    "df['majority_asian'] = np.where((df.asian >= .75), 1, 0)"
   ]
  },
  {
   "cell_type": "code",
   "execution_count": 32,
   "metadata": {},
   "outputs": [],
   "source": [
    "df['majority_black'] = np.where((df.black >= .75), 1, 0)"
   ]
  },
  {
   "cell_type": "code",
   "execution_count": 33,
   "metadata": {},
   "outputs": [],
   "source": [
    "df['majority_hispanic'] = np.where((df.hispanic >= .75), 1, 0)"
   ]
  },
  {
   "cell_type": "markdown",
   "metadata": {},
   "source": [
    "---"
   ]
  },
  {
   "cell_type": "markdown",
   "metadata": {},
   "source": [
    "# <font color='yellow'>Statistical Tests</font>"
   ]
  },
  {
   "cell_type": "markdown",
   "metadata": {},
   "source": [
    "---"
   ]
  },
  {
   "cell_type": "markdown",
   "metadata": {},
   "source": [
    "### Test - 1"
   ]
  },
  {
   "cell_type": "code",
   "execution_count": 42,
   "metadata": {},
   "outputs": [],
   "source": [
    "corr = df.corr()"
   ]
  },
  {
   "cell_type": "code",
   "execution_count": 43,
   "metadata": {
    "scrolled": true
   },
   "outputs": [
    {
     "data": {
      "text/html": [
       "<div>\n",
       "<style scoped>\n",
       "    .dataframe tbody tr th:only-of-type {\n",
       "        vertical-align: middle;\n",
       "    }\n",
       "\n",
       "    .dataframe tbody tr th {\n",
       "        vertical-align: top;\n",
       "    }\n",
       "\n",
       "    .dataframe thead th {\n",
       "        text-align: right;\n",
       "    }\n",
       "</style>\n",
       "<table border=\"1\" class=\"dataframe\">\n",
       "  <thead>\n",
       "    <tr style=\"text-align: right;\">\n",
       "      <th></th>\n",
       "      <th>enrollment</th>\n",
       "      <th>rigorous_instruction</th>\n",
       "      <th>collab_teachers</th>\n",
       "      <th>support_environ</th>\n",
       "      <th>effective_school_leadership</th>\n",
       "      <th>strong_fam_community_ties</th>\n",
       "      <th>trust</th>\n",
       "      <th>english_language_learners</th>\n",
       "      <th>students_disabilities</th>\n",
       "      <th>self_contained</th>\n",
       "      <th>...</th>\n",
       "      <th>white</th>\n",
       "      <th>teachers_3_or_more_yrs_exp</th>\n",
       "      <th>student_attendance_rate</th>\n",
       "      <th>chronically_absent</th>\n",
       "      <th>teacher_attendance_rate</th>\n",
       "      <th>majority_white</th>\n",
       "      <th>majority_asian</th>\n",
       "      <th>majority_black</th>\n",
       "      <th>majority_hispanic</th>\n",
       "      <th>75_pct_economic_need_index</th>\n",
       "    </tr>\n",
       "  </thead>\n",
       "  <tbody>\n",
       "    <tr>\n",
       "      <th>enrollment</th>\n",
       "      <td>1.000000</td>\n",
       "      <td>0.054143</td>\n",
       "      <td>0.034292</td>\n",
       "      <td>0.074983</td>\n",
       "      <td>-0.023563</td>\n",
       "      <td>-0.113532</td>\n",
       "      <td>0.000965</td>\n",
       "      <td>0.198048</td>\n",
       "      <td>-0.458664</td>\n",
       "      <td>-0.132190</td>\n",
       "      <td>...</td>\n",
       "      <td>0.197276</td>\n",
       "      <td>0.215523</td>\n",
       "      <td>0.371440</td>\n",
       "      <td>-0.355375</td>\n",
       "      <td>-0.119966</td>\n",
       "      <td>0.038167</td>\n",
       "      <td>0.093670</td>\n",
       "      <td>-0.143273</td>\n",
       "      <td>-0.013227</td>\n",
       "      <td>-0.215181</td>\n",
       "    </tr>\n",
       "    <tr>\n",
       "      <th>rigorous_instruction</th>\n",
       "      <td>0.054143</td>\n",
       "      <td>1.000000</td>\n",
       "      <td>0.834973</td>\n",
       "      <td>0.788036</td>\n",
       "      <td>0.785521</td>\n",
       "      <td>0.444640</td>\n",
       "      <td>0.760575</td>\n",
       "      <td>-0.086402</td>\n",
       "      <td>-0.246845</td>\n",
       "      <td>-0.276040</td>\n",
       "      <td>...</td>\n",
       "      <td>0.273532</td>\n",
       "      <td>0.208089</td>\n",
       "      <td>0.313577</td>\n",
       "      <td>-0.330030</td>\n",
       "      <td>0.145128</td>\n",
       "      <td>0.058073</td>\n",
       "      <td>0.052343</td>\n",
       "      <td>-0.022216</td>\n",
       "      <td>-0.024676</td>\n",
       "      <td>-0.243812</td>\n",
       "    </tr>\n",
       "    <tr>\n",
       "      <th>collab_teachers</th>\n",
       "      <td>0.034292</td>\n",
       "      <td>0.834973</td>\n",
       "      <td>1.000000</td>\n",
       "      <td>0.720587</td>\n",
       "      <td>0.918153</td>\n",
       "      <td>0.461629</td>\n",
       "      <td>0.902071</td>\n",
       "      <td>-0.043235</td>\n",
       "      <td>-0.174741</td>\n",
       "      <td>-0.196866</td>\n",
       "      <td>...</td>\n",
       "      <td>0.197016</td>\n",
       "      <td>0.216765</td>\n",
       "      <td>0.240320</td>\n",
       "      <td>-0.248044</td>\n",
       "      <td>0.166541</td>\n",
       "      <td>0.044132</td>\n",
       "      <td>0.053516</td>\n",
       "      <td>0.018456</td>\n",
       "      <td>-0.015410</td>\n",
       "      <td>-0.179527</td>\n",
       "    </tr>\n",
       "    <tr>\n",
       "      <th>support_environ</th>\n",
       "      <td>0.074983</td>\n",
       "      <td>0.788036</td>\n",
       "      <td>0.720587</td>\n",
       "      <td>1.000000</td>\n",
       "      <td>0.601279</td>\n",
       "      <td>0.600529</td>\n",
       "      <td>0.699714</td>\n",
       "      <td>0.052195</td>\n",
       "      <td>-0.255675</td>\n",
       "      <td>-0.227811</td>\n",
       "      <td>...</td>\n",
       "      <td>0.271602</td>\n",
       "      <td>0.218324</td>\n",
       "      <td>0.307892</td>\n",
       "      <td>-0.304059</td>\n",
       "      <td>0.136418</td>\n",
       "      <td>0.030942</td>\n",
       "      <td>0.105643</td>\n",
       "      <td>-0.058866</td>\n",
       "      <td>0.003231</td>\n",
       "      <td>-0.236749</td>\n",
       "    </tr>\n",
       "    <tr>\n",
       "      <th>effective_school_leadership</th>\n",
       "      <td>-0.023563</td>\n",
       "      <td>0.785521</td>\n",
       "      <td>0.918153</td>\n",
       "      <td>0.601279</td>\n",
       "      <td>1.000000</td>\n",
       "      <td>0.405167</td>\n",
       "      <td>0.884261</td>\n",
       "      <td>-0.038793</td>\n",
       "      <td>-0.130049</td>\n",
       "      <td>-0.172526</td>\n",
       "      <td>...</td>\n",
       "      <td>0.132816</td>\n",
       "      <td>0.139610</td>\n",
       "      <td>0.196734</td>\n",
       "      <td>-0.216479</td>\n",
       "      <td>0.140200</td>\n",
       "      <td>0.024854</td>\n",
       "      <td>0.047625</td>\n",
       "      <td>0.041127</td>\n",
       "      <td>-0.010601</td>\n",
       "      <td>-0.120736</td>\n",
       "    </tr>\n",
       "    <tr>\n",
       "      <th>strong_fam_community_ties</th>\n",
       "      <td>-0.113532</td>\n",
       "      <td>0.444640</td>\n",
       "      <td>0.461629</td>\n",
       "      <td>0.600529</td>\n",
       "      <td>0.405167</td>\n",
       "      <td>1.000000</td>\n",
       "      <td>0.509791</td>\n",
       "      <td>0.013809</td>\n",
       "      <td>-0.032723</td>\n",
       "      <td>-0.097620</td>\n",
       "      <td>...</td>\n",
       "      <td>0.182238</td>\n",
       "      <td>0.097443</td>\n",
       "      <td>0.148121</td>\n",
       "      <td>-0.131471</td>\n",
       "      <td>0.092489</td>\n",
       "      <td>0.066950</td>\n",
       "      <td>0.054725</td>\n",
       "      <td>0.034732</td>\n",
       "      <td>0.001447</td>\n",
       "      <td>-0.176056</td>\n",
       "    </tr>\n",
       "    <tr>\n",
       "      <th>trust</th>\n",
       "      <td>0.000965</td>\n",
       "      <td>0.760575</td>\n",
       "      <td>0.902071</td>\n",
       "      <td>0.699714</td>\n",
       "      <td>0.884261</td>\n",
       "      <td>0.509791</td>\n",
       "      <td>1.000000</td>\n",
       "      <td>0.026826</td>\n",
       "      <td>-0.109379</td>\n",
       "      <td>-0.160697</td>\n",
       "      <td>...</td>\n",
       "      <td>0.151269</td>\n",
       "      <td>0.171304</td>\n",
       "      <td>0.189838</td>\n",
       "      <td>-0.197162</td>\n",
       "      <td>0.139378</td>\n",
       "      <td>0.022648</td>\n",
       "      <td>0.062374</td>\n",
       "      <td>-0.010581</td>\n",
       "      <td>0.038604</td>\n",
       "      <td>-0.105276</td>\n",
       "    </tr>\n",
       "    <tr>\n",
       "      <th>english_language_learners</th>\n",
       "      <td>0.198048</td>\n",
       "      <td>-0.086402</td>\n",
       "      <td>-0.043235</td>\n",
       "      <td>0.052195</td>\n",
       "      <td>-0.038793</td>\n",
       "      <td>0.013809</td>\n",
       "      <td>0.026826</td>\n",
       "      <td>1.000000</td>\n",
       "      <td>-0.030432</td>\n",
       "      <td>0.146010</td>\n",
       "      <td>...</td>\n",
       "      <td>-0.274518</td>\n",
       "      <td>-0.033922</td>\n",
       "      <td>0.022556</td>\n",
       "      <td>0.001900</td>\n",
       "      <td>-0.106997</td>\n",
       "      <td>-0.065153</td>\n",
       "      <td>0.193572</td>\n",
       "      <td>-0.204660</td>\n",
       "      <td>0.470329</td>\n",
       "      <td>0.395583</td>\n",
       "    </tr>\n",
       "    <tr>\n",
       "      <th>students_disabilities</th>\n",
       "      <td>-0.458664</td>\n",
       "      <td>-0.246845</td>\n",
       "      <td>-0.174741</td>\n",
       "      <td>-0.255675</td>\n",
       "      <td>-0.130049</td>\n",
       "      <td>-0.032723</td>\n",
       "      <td>-0.109379</td>\n",
       "      <td>-0.030432</td>\n",
       "      <td>1.000000</td>\n",
       "      <td>0.596136</td>\n",
       "      <td>...</td>\n",
       "      <td>-0.363956</td>\n",
       "      <td>-0.204034</td>\n",
       "      <td>-0.600727</td>\n",
       "      <td>0.620374</td>\n",
       "      <td>-0.035149</td>\n",
       "      <td>-0.072147</td>\n",
       "      <td>-0.144789</td>\n",
       "      <td>0.067924</td>\n",
       "      <td>0.070095</td>\n",
       "      <td>0.459596</td>\n",
       "    </tr>\n",
       "    <tr>\n",
       "      <th>self_contained</th>\n",
       "      <td>-0.132190</td>\n",
       "      <td>-0.276040</td>\n",
       "      <td>-0.196866</td>\n",
       "      <td>-0.227811</td>\n",
       "      <td>-0.172526</td>\n",
       "      <td>-0.097620</td>\n",
       "      <td>-0.160697</td>\n",
       "      <td>0.146010</td>\n",
       "      <td>0.596136</td>\n",
       "      <td>1.000000</td>\n",
       "      <td>...</td>\n",
       "      <td>-0.455401</td>\n",
       "      <td>-0.032029</td>\n",
       "      <td>-0.527554</td>\n",
       "      <td>0.585541</td>\n",
       "      <td>-0.162907</td>\n",
       "      <td>-0.063902</td>\n",
       "      <td>-0.094939</td>\n",
       "      <td>0.089730</td>\n",
       "      <td>0.102079</td>\n",
       "      <td>0.456474</td>\n",
       "    </tr>\n",
       "    <tr>\n",
       "      <th>economic_need_index</th>\n",
       "      <td>-0.187777</td>\n",
       "      <td>-0.303059</td>\n",
       "      <td>-0.205662</td>\n",
       "      <td>-0.283555</td>\n",
       "      <td>-0.144322</td>\n",
       "      <td>-0.205642</td>\n",
       "      <td>-0.134196</td>\n",
       "      <td>0.455368</td>\n",
       "      <td>0.494069</td>\n",
       "      <td>0.541624</td>\n",
       "      <td>...</td>\n",
       "      <td>-0.821462</td>\n",
       "      <td>-0.209879</td>\n",
       "      <td>-0.595275</td>\n",
       "      <td>0.661037</td>\n",
       "      <td>-0.112157</td>\n",
       "      <td>-0.204043</td>\n",
       "      <td>0.011758</td>\n",
       "      <td>0.056054</td>\n",
       "      <td>0.293933</td>\n",
       "      <td>0.820053</td>\n",
       "    </tr>\n",
       "    <tr>\n",
       "      <th>temp_housing</th>\n",
       "      <td>-0.363258</td>\n",
       "      <td>-0.248838</td>\n",
       "      <td>-0.195359</td>\n",
       "      <td>-0.268188</td>\n",
       "      <td>-0.136250</td>\n",
       "      <td>-0.092673</td>\n",
       "      <td>-0.126763</td>\n",
       "      <td>0.268978</td>\n",
       "      <td>0.575952</td>\n",
       "      <td>0.528658</td>\n",
       "      <td>...</td>\n",
       "      <td>-0.618793</td>\n",
       "      <td>-0.256560</td>\n",
       "      <td>-0.675000</td>\n",
       "      <td>0.714920</td>\n",
       "      <td>-0.046712</td>\n",
       "      <td>-0.123255</td>\n",
       "      <td>-0.094862</td>\n",
       "      <td>0.083939</td>\n",
       "      <td>0.263629</td>\n",
       "      <td>0.696363</td>\n",
       "    </tr>\n",
       "    <tr>\n",
       "      <th>hra_eligible</th>\n",
       "      <td>-0.177764</td>\n",
       "      <td>-0.308687</td>\n",
       "      <td>-0.213288</td>\n",
       "      <td>-0.284807</td>\n",
       "      <td>-0.154999</td>\n",
       "      <td>-0.206292</td>\n",
       "      <td>-0.142664</td>\n",
       "      <td>0.458627</td>\n",
       "      <td>0.502229</td>\n",
       "      <td>0.562199</td>\n",
       "      <td>...</td>\n",
       "      <td>-0.807381</td>\n",
       "      <td>-0.197709</td>\n",
       "      <td>-0.612891</td>\n",
       "      <td>0.678965</td>\n",
       "      <td>-0.128466</td>\n",
       "      <td>-0.189874</td>\n",
       "      <td>0.013202</td>\n",
       "      <td>0.057770</td>\n",
       "      <td>0.282700</td>\n",
       "      <td>0.830507</td>\n",
       "    </tr>\n",
       "    <tr>\n",
       "      <th>asian</th>\n",
       "      <td>0.443760</td>\n",
       "      <td>0.170610</td>\n",
       "      <td>0.131297</td>\n",
       "      <td>0.254970</td>\n",
       "      <td>0.084360</td>\n",
       "      <td>0.029096</td>\n",
       "      <td>0.100906</td>\n",
       "      <td>0.132693</td>\n",
       "      <td>-0.493911</td>\n",
       "      <td>-0.297535</td>\n",
       "      <td>...</td>\n",
       "      <td>0.153452</td>\n",
       "      <td>0.220916</td>\n",
       "      <td>0.550251</td>\n",
       "      <td>-0.524275</td>\n",
       "      <td>-0.014547</td>\n",
       "      <td>-0.047215</td>\n",
       "      <td>0.462926</td>\n",
       "      <td>-0.174240</td>\n",
       "      <td>-0.251987</td>\n",
       "      <td>-0.348267</td>\n",
       "    </tr>\n",
       "    <tr>\n",
       "      <th>black</th>\n",
       "      <td>-0.416197</td>\n",
       "      <td>-0.219258</td>\n",
       "      <td>-0.153810</td>\n",
       "      <td>-0.285517</td>\n",
       "      <td>-0.097530</td>\n",
       "      <td>-0.101440</td>\n",
       "      <td>-0.167215</td>\n",
       "      <td>-0.378095</td>\n",
       "      <td>0.372379</td>\n",
       "      <td>0.325121</td>\n",
       "      <td>...</td>\n",
       "      <td>-0.437518</td>\n",
       "      <td>-0.100606</td>\n",
       "      <td>-0.527154</td>\n",
       "      <td>0.544508</td>\n",
       "      <td>-0.009190</td>\n",
       "      <td>-0.089068</td>\n",
       "      <td>-0.122776</td>\n",
       "      <td>0.587634</td>\n",
       "      <td>-0.282513</td>\n",
       "      <td>0.269688</td>\n",
       "    </tr>\n",
       "    <tr>\n",
       "      <th>hispanic</th>\n",
       "      <td>-0.047887</td>\n",
       "      <td>-0.115387</td>\n",
       "      <td>-0.090363</td>\n",
       "      <td>-0.111907</td>\n",
       "      <td>-0.063623</td>\n",
       "      <td>-0.063171</td>\n",
       "      <td>-0.018808</td>\n",
       "      <td>0.519243</td>\n",
       "      <td>0.275120</td>\n",
       "      <td>0.249369</td>\n",
       "      <td>...</td>\n",
       "      <td>-0.428662</td>\n",
       "      <td>-0.174295</td>\n",
       "      <td>-0.220465</td>\n",
       "      <td>0.235486</td>\n",
       "      <td>-0.065005</td>\n",
       "      <td>-0.109815</td>\n",
       "      <td>-0.158853</td>\n",
       "      <td>-0.334778</td>\n",
       "      <td>0.675400</td>\n",
       "      <td>0.477181</td>\n",
       "    </tr>\n",
       "    <tr>\n",
       "      <th>white</th>\n",
       "      <td>0.197276</td>\n",
       "      <td>0.273532</td>\n",
       "      <td>0.197016</td>\n",
       "      <td>0.271602</td>\n",
       "      <td>0.132816</td>\n",
       "      <td>0.182238</td>\n",
       "      <td>0.151269</td>\n",
       "      <td>-0.274518</td>\n",
       "      <td>-0.363956</td>\n",
       "      <td>-0.455401</td>\n",
       "      <td>...</td>\n",
       "      <td>1.000000</td>\n",
       "      <td>0.147185</td>\n",
       "      <td>0.453114</td>\n",
       "      <td>-0.516741</td>\n",
       "      <td>0.102116</td>\n",
       "      <td>0.327640</td>\n",
       "      <td>-0.068994</td>\n",
       "      <td>-0.163951</td>\n",
       "      <td>-0.247538</td>\n",
       "      <td>-0.618021</td>\n",
       "    </tr>\n",
       "    <tr>\n",
       "      <th>teachers_3_or_more_yrs_exp</th>\n",
       "      <td>0.215523</td>\n",
       "      <td>0.208089</td>\n",
       "      <td>0.216765</td>\n",
       "      <td>0.218324</td>\n",
       "      <td>0.139610</td>\n",
       "      <td>0.097443</td>\n",
       "      <td>0.171304</td>\n",
       "      <td>-0.033922</td>\n",
       "      <td>-0.204034</td>\n",
       "      <td>-0.032029</td>\n",
       "      <td>...</td>\n",
       "      <td>0.147185</td>\n",
       "      <td>1.000000</td>\n",
       "      <td>0.166721</td>\n",
       "      <td>-0.152347</td>\n",
       "      <td>-0.200273</td>\n",
       "      <td>0.023564</td>\n",
       "      <td>0.033240</td>\n",
       "      <td>0.073545</td>\n",
       "      <td>-0.061122</td>\n",
       "      <td>-0.225010</td>\n",
       "    </tr>\n",
       "    <tr>\n",
       "      <th>student_attendance_rate</th>\n",
       "      <td>0.371440</td>\n",
       "      <td>0.313577</td>\n",
       "      <td>0.240320</td>\n",
       "      <td>0.307892</td>\n",
       "      <td>0.196734</td>\n",
       "      <td>0.148121</td>\n",
       "      <td>0.189838</td>\n",
       "      <td>0.022556</td>\n",
       "      <td>-0.600727</td>\n",
       "      <td>-0.527554</td>\n",
       "      <td>...</td>\n",
       "      <td>0.453114</td>\n",
       "      <td>0.166721</td>\n",
       "      <td>1.000000</td>\n",
       "      <td>-0.962100</td>\n",
       "      <td>0.105897</td>\n",
       "      <td>0.068005</td>\n",
       "      <td>0.213958</td>\n",
       "      <td>-0.141387</td>\n",
       "      <td>0.010654</td>\n",
       "      <td>-0.542233</td>\n",
       "    </tr>\n",
       "    <tr>\n",
       "      <th>chronically_absent</th>\n",
       "      <td>-0.355375</td>\n",
       "      <td>-0.330030</td>\n",
       "      <td>-0.248044</td>\n",
       "      <td>-0.304059</td>\n",
       "      <td>-0.216479</td>\n",
       "      <td>-0.131471</td>\n",
       "      <td>-0.197162</td>\n",
       "      <td>0.001900</td>\n",
       "      <td>0.620374</td>\n",
       "      <td>0.585541</td>\n",
       "      <td>...</td>\n",
       "      <td>-0.516741</td>\n",
       "      <td>-0.152347</td>\n",
       "      <td>-0.962100</td>\n",
       "      <td>1.000000</td>\n",
       "      <td>-0.117978</td>\n",
       "      <td>-0.091760</td>\n",
       "      <td>-0.181320</td>\n",
       "      <td>0.146792</td>\n",
       "      <td>-0.005509</td>\n",
       "      <td>0.592113</td>\n",
       "    </tr>\n",
       "    <tr>\n",
       "      <th>teacher_attendance_rate</th>\n",
       "      <td>-0.119966</td>\n",
       "      <td>0.145128</td>\n",
       "      <td>0.166541</td>\n",
       "      <td>0.136418</td>\n",
       "      <td>0.140200</td>\n",
       "      <td>0.092489</td>\n",
       "      <td>0.139378</td>\n",
       "      <td>-0.106997</td>\n",
       "      <td>-0.035149</td>\n",
       "      <td>-0.162907</td>\n",
       "      <td>...</td>\n",
       "      <td>0.102116</td>\n",
       "      <td>-0.200273</td>\n",
       "      <td>0.105897</td>\n",
       "      <td>-0.117978</td>\n",
       "      <td>1.000000</td>\n",
       "      <td>0.003012</td>\n",
       "      <td>0.016510</td>\n",
       "      <td>0.014048</td>\n",
       "      <td>-0.043891</td>\n",
       "      <td>-0.054578</td>\n",
       "    </tr>\n",
       "    <tr>\n",
       "      <th>majority_white</th>\n",
       "      <td>0.038167</td>\n",
       "      <td>0.058073</td>\n",
       "      <td>0.044132</td>\n",
       "      <td>0.030942</td>\n",
       "      <td>0.024854</td>\n",
       "      <td>0.066950</td>\n",
       "      <td>0.022648</td>\n",
       "      <td>-0.065153</td>\n",
       "      <td>-0.072147</td>\n",
       "      <td>-0.063902</td>\n",
       "      <td>...</td>\n",
       "      <td>0.327640</td>\n",
       "      <td>0.023564</td>\n",
       "      <td>0.068005</td>\n",
       "      <td>-0.091760</td>\n",
       "      <td>0.003012</td>\n",
       "      <td>1.000000</td>\n",
       "      <td>-0.011489</td>\n",
       "      <td>-0.025570</td>\n",
       "      <td>-0.039224</td>\n",
       "      <td>-0.116453</td>\n",
       "    </tr>\n",
       "    <tr>\n",
       "      <th>majority_asian</th>\n",
       "      <td>0.093670</td>\n",
       "      <td>0.052343</td>\n",
       "      <td>0.053516</td>\n",
       "      <td>0.105643</td>\n",
       "      <td>0.047625</td>\n",
       "      <td>0.054725</td>\n",
       "      <td>0.062374</td>\n",
       "      <td>0.193572</td>\n",
       "      <td>-0.144789</td>\n",
       "      <td>-0.094939</td>\n",
       "      <td>...</td>\n",
       "      <td>-0.068994</td>\n",
       "      <td>0.033240</td>\n",
       "      <td>0.213958</td>\n",
       "      <td>-0.181320</td>\n",
       "      <td>0.016510</td>\n",
       "      <td>-0.011489</td>\n",
       "      <td>1.000000</td>\n",
       "      <td>-0.035142</td>\n",
       "      <td>-0.053908</td>\n",
       "      <td>-0.022072</td>\n",
       "    </tr>\n",
       "    <tr>\n",
       "      <th>majority_black</th>\n",
       "      <td>-0.143273</td>\n",
       "      <td>-0.022216</td>\n",
       "      <td>0.018456</td>\n",
       "      <td>-0.058866</td>\n",
       "      <td>0.041127</td>\n",
       "      <td>0.034732</td>\n",
       "      <td>-0.010581</td>\n",
       "      <td>-0.204660</td>\n",
       "      <td>0.067924</td>\n",
       "      <td>0.089730</td>\n",
       "      <td>...</td>\n",
       "      <td>-0.163951</td>\n",
       "      <td>0.073545</td>\n",
       "      <td>-0.141387</td>\n",
       "      <td>0.146792</td>\n",
       "      <td>0.014048</td>\n",
       "      <td>-0.025570</td>\n",
       "      <td>-0.035142</td>\n",
       "      <td>1.000000</td>\n",
       "      <td>-0.119979</td>\n",
       "      <td>0.022162</td>\n",
       "    </tr>\n",
       "    <tr>\n",
       "      <th>majority_hispanic</th>\n",
       "      <td>-0.013227</td>\n",
       "      <td>-0.024676</td>\n",
       "      <td>-0.015410</td>\n",
       "      <td>0.003231</td>\n",
       "      <td>-0.010601</td>\n",
       "      <td>0.001447</td>\n",
       "      <td>0.038604</td>\n",
       "      <td>0.470329</td>\n",
       "      <td>0.070095</td>\n",
       "      <td>0.102079</td>\n",
       "      <td>...</td>\n",
       "      <td>-0.247538</td>\n",
       "      <td>-0.061122</td>\n",
       "      <td>0.010654</td>\n",
       "      <td>-0.005509</td>\n",
       "      <td>-0.043891</td>\n",
       "      <td>-0.039224</td>\n",
       "      <td>-0.053908</td>\n",
       "      <td>-0.119979</td>\n",
       "      <td>1.000000</td>\n",
       "      <td>0.295606</td>\n",
       "    </tr>\n",
       "    <tr>\n",
       "      <th>75_pct_economic_need_index</th>\n",
       "      <td>-0.215181</td>\n",
       "      <td>-0.243812</td>\n",
       "      <td>-0.179527</td>\n",
       "      <td>-0.236749</td>\n",
       "      <td>-0.120736</td>\n",
       "      <td>-0.176056</td>\n",
       "      <td>-0.105276</td>\n",
       "      <td>0.395583</td>\n",
       "      <td>0.459596</td>\n",
       "      <td>0.456474</td>\n",
       "      <td>...</td>\n",
       "      <td>-0.618021</td>\n",
       "      <td>-0.225010</td>\n",
       "      <td>-0.542233</td>\n",
       "      <td>0.592113</td>\n",
       "      <td>-0.054578</td>\n",
       "      <td>-0.116453</td>\n",
       "      <td>-0.022072</td>\n",
       "      <td>0.022162</td>\n",
       "      <td>0.295606</td>\n",
       "      <td>1.000000</td>\n",
       "    </tr>\n",
       "  </tbody>\n",
       "</table>\n",
       "<p>26 rows × 26 columns</p>\n",
       "</div>"
      ],
      "text/plain": [
       "                             enrollment  rigorous_instruction  \\\n",
       "enrollment                     1.000000              0.054143   \n",
       "rigorous_instruction           0.054143              1.000000   \n",
       "collab_teachers                0.034292              0.834973   \n",
       "support_environ                0.074983              0.788036   \n",
       "effective_school_leadership   -0.023563              0.785521   \n",
       "strong_fam_community_ties     -0.113532              0.444640   \n",
       "trust                          0.000965              0.760575   \n",
       "english_language_learners      0.198048             -0.086402   \n",
       "students_disabilities         -0.458664             -0.246845   \n",
       "self_contained                -0.132190             -0.276040   \n",
       "economic_need_index           -0.187777             -0.303059   \n",
       "temp_housing                  -0.363258             -0.248838   \n",
       "hra_eligible                  -0.177764             -0.308687   \n",
       "asian                          0.443760              0.170610   \n",
       "black                         -0.416197             -0.219258   \n",
       "hispanic                      -0.047887             -0.115387   \n",
       "white                          0.197276              0.273532   \n",
       "teachers_3_or_more_yrs_exp     0.215523              0.208089   \n",
       "student_attendance_rate        0.371440              0.313577   \n",
       "chronically_absent            -0.355375             -0.330030   \n",
       "teacher_attendance_rate       -0.119966              0.145128   \n",
       "majority_white                 0.038167              0.058073   \n",
       "majority_asian                 0.093670              0.052343   \n",
       "majority_black                -0.143273             -0.022216   \n",
       "majority_hispanic             -0.013227             -0.024676   \n",
       "75_pct_economic_need_index    -0.215181             -0.243812   \n",
       "\n",
       "                             collab_teachers  support_environ  \\\n",
       "enrollment                          0.034292         0.074983   \n",
       "rigorous_instruction                0.834973         0.788036   \n",
       "collab_teachers                     1.000000         0.720587   \n",
       "support_environ                     0.720587         1.000000   \n",
       "effective_school_leadership         0.918153         0.601279   \n",
       "strong_fam_community_ties           0.461629         0.600529   \n",
       "trust                               0.902071         0.699714   \n",
       "english_language_learners          -0.043235         0.052195   \n",
       "students_disabilities              -0.174741        -0.255675   \n",
       "self_contained                     -0.196866        -0.227811   \n",
       "economic_need_index                -0.205662        -0.283555   \n",
       "temp_housing                       -0.195359        -0.268188   \n",
       "hra_eligible                       -0.213288        -0.284807   \n",
       "asian                               0.131297         0.254970   \n",
       "black                              -0.153810        -0.285517   \n",
       "hispanic                           -0.090363        -0.111907   \n",
       "white                               0.197016         0.271602   \n",
       "teachers_3_or_more_yrs_exp          0.216765         0.218324   \n",
       "student_attendance_rate             0.240320         0.307892   \n",
       "chronically_absent                 -0.248044        -0.304059   \n",
       "teacher_attendance_rate             0.166541         0.136418   \n",
       "majority_white                      0.044132         0.030942   \n",
       "majority_asian                      0.053516         0.105643   \n",
       "majority_black                      0.018456        -0.058866   \n",
       "majority_hispanic                  -0.015410         0.003231   \n",
       "75_pct_economic_need_index         -0.179527        -0.236749   \n",
       "\n",
       "                             effective_school_leadership  \\\n",
       "enrollment                                     -0.023563   \n",
       "rigorous_instruction                            0.785521   \n",
       "collab_teachers                                 0.918153   \n",
       "support_environ                                 0.601279   \n",
       "effective_school_leadership                     1.000000   \n",
       "strong_fam_community_ties                       0.405167   \n",
       "trust                                           0.884261   \n",
       "english_language_learners                      -0.038793   \n",
       "students_disabilities                          -0.130049   \n",
       "self_contained                                 -0.172526   \n",
       "economic_need_index                            -0.144322   \n",
       "temp_housing                                   -0.136250   \n",
       "hra_eligible                                   -0.154999   \n",
       "asian                                           0.084360   \n",
       "black                                          -0.097530   \n",
       "hispanic                                       -0.063623   \n",
       "white                                           0.132816   \n",
       "teachers_3_or_more_yrs_exp                      0.139610   \n",
       "student_attendance_rate                         0.196734   \n",
       "chronically_absent                             -0.216479   \n",
       "teacher_attendance_rate                         0.140200   \n",
       "majority_white                                  0.024854   \n",
       "majority_asian                                  0.047625   \n",
       "majority_black                                  0.041127   \n",
       "majority_hispanic                              -0.010601   \n",
       "75_pct_economic_need_index                     -0.120736   \n",
       "\n",
       "                             strong_fam_community_ties     trust  \\\n",
       "enrollment                                   -0.113532  0.000965   \n",
       "rigorous_instruction                          0.444640  0.760575   \n",
       "collab_teachers                               0.461629  0.902071   \n",
       "support_environ                               0.600529  0.699714   \n",
       "effective_school_leadership                   0.405167  0.884261   \n",
       "strong_fam_community_ties                     1.000000  0.509791   \n",
       "trust                                         0.509791  1.000000   \n",
       "english_language_learners                     0.013809  0.026826   \n",
       "students_disabilities                        -0.032723 -0.109379   \n",
       "self_contained                               -0.097620 -0.160697   \n",
       "economic_need_index                          -0.205642 -0.134196   \n",
       "temp_housing                                 -0.092673 -0.126763   \n",
       "hra_eligible                                 -0.206292 -0.142664   \n",
       "asian                                         0.029096  0.100906   \n",
       "black                                        -0.101440 -0.167215   \n",
       "hispanic                                     -0.063171 -0.018808   \n",
       "white                                         0.182238  0.151269   \n",
       "teachers_3_or_more_yrs_exp                    0.097443  0.171304   \n",
       "student_attendance_rate                       0.148121  0.189838   \n",
       "chronically_absent                           -0.131471 -0.197162   \n",
       "teacher_attendance_rate                       0.092489  0.139378   \n",
       "majority_white                                0.066950  0.022648   \n",
       "majority_asian                                0.054725  0.062374   \n",
       "majority_black                                0.034732 -0.010581   \n",
       "majority_hispanic                             0.001447  0.038604   \n",
       "75_pct_economic_need_index                   -0.176056 -0.105276   \n",
       "\n",
       "                             english_language_learners  students_disabilities  \\\n",
       "enrollment                                    0.198048              -0.458664   \n",
       "rigorous_instruction                         -0.086402              -0.246845   \n",
       "collab_teachers                              -0.043235              -0.174741   \n",
       "support_environ                               0.052195              -0.255675   \n",
       "effective_school_leadership                  -0.038793              -0.130049   \n",
       "strong_fam_community_ties                     0.013809              -0.032723   \n",
       "trust                                         0.026826              -0.109379   \n",
       "english_language_learners                     1.000000              -0.030432   \n",
       "students_disabilities                        -0.030432               1.000000   \n",
       "self_contained                                0.146010               0.596136   \n",
       "economic_need_index                           0.455368               0.494069   \n",
       "temp_housing                                  0.268978               0.575952   \n",
       "hra_eligible                                  0.458627               0.502229   \n",
       "asian                                         0.132693              -0.493911   \n",
       "black                                        -0.378095               0.372379   \n",
       "hispanic                                      0.519243               0.275120   \n",
       "white                                        -0.274518              -0.363956   \n",
       "teachers_3_or_more_yrs_exp                   -0.033922              -0.204034   \n",
       "student_attendance_rate                       0.022556              -0.600727   \n",
       "chronically_absent                            0.001900               0.620374   \n",
       "teacher_attendance_rate                      -0.106997              -0.035149   \n",
       "majority_white                               -0.065153              -0.072147   \n",
       "majority_asian                                0.193572              -0.144789   \n",
       "majority_black                               -0.204660               0.067924   \n",
       "majority_hispanic                             0.470329               0.070095   \n",
       "75_pct_economic_need_index                    0.395583               0.459596   \n",
       "\n",
       "                             self_contained  ...     white  \\\n",
       "enrollment                        -0.132190  ...  0.197276   \n",
       "rigorous_instruction              -0.276040  ...  0.273532   \n",
       "collab_teachers                   -0.196866  ...  0.197016   \n",
       "support_environ                   -0.227811  ...  0.271602   \n",
       "effective_school_leadership       -0.172526  ...  0.132816   \n",
       "strong_fam_community_ties         -0.097620  ...  0.182238   \n",
       "trust                             -0.160697  ...  0.151269   \n",
       "english_language_learners          0.146010  ... -0.274518   \n",
       "students_disabilities              0.596136  ... -0.363956   \n",
       "self_contained                     1.000000  ... -0.455401   \n",
       "economic_need_index                0.541624  ... -0.821462   \n",
       "temp_housing                       0.528658  ... -0.618793   \n",
       "hra_eligible                       0.562199  ... -0.807381   \n",
       "asian                             -0.297535  ...  0.153452   \n",
       "black                              0.325121  ... -0.437518   \n",
       "hispanic                           0.249369  ... -0.428662   \n",
       "white                             -0.455401  ...  1.000000   \n",
       "teachers_3_or_more_yrs_exp        -0.032029  ...  0.147185   \n",
       "student_attendance_rate           -0.527554  ...  0.453114   \n",
       "chronically_absent                 0.585541  ... -0.516741   \n",
       "teacher_attendance_rate           -0.162907  ...  0.102116   \n",
       "majority_white                    -0.063902  ...  0.327640   \n",
       "majority_asian                    -0.094939  ... -0.068994   \n",
       "majority_black                     0.089730  ... -0.163951   \n",
       "majority_hispanic                  0.102079  ... -0.247538   \n",
       "75_pct_economic_need_index         0.456474  ... -0.618021   \n",
       "\n",
       "                             teachers_3_or_more_yrs_exp  \\\n",
       "enrollment                                     0.215523   \n",
       "rigorous_instruction                           0.208089   \n",
       "collab_teachers                                0.216765   \n",
       "support_environ                                0.218324   \n",
       "effective_school_leadership                    0.139610   \n",
       "strong_fam_community_ties                      0.097443   \n",
       "trust                                          0.171304   \n",
       "english_language_learners                     -0.033922   \n",
       "students_disabilities                         -0.204034   \n",
       "self_contained                                -0.032029   \n",
       "economic_need_index                           -0.209879   \n",
       "temp_housing                                  -0.256560   \n",
       "hra_eligible                                  -0.197709   \n",
       "asian                                          0.220916   \n",
       "black                                         -0.100606   \n",
       "hispanic                                      -0.174295   \n",
       "white                                          0.147185   \n",
       "teachers_3_or_more_yrs_exp                     1.000000   \n",
       "student_attendance_rate                        0.166721   \n",
       "chronically_absent                            -0.152347   \n",
       "teacher_attendance_rate                       -0.200273   \n",
       "majority_white                                 0.023564   \n",
       "majority_asian                                 0.033240   \n",
       "majority_black                                 0.073545   \n",
       "majority_hispanic                             -0.061122   \n",
       "75_pct_economic_need_index                    -0.225010   \n",
       "\n",
       "                             student_attendance_rate  chronically_absent  \\\n",
       "enrollment                                  0.371440           -0.355375   \n",
       "rigorous_instruction                        0.313577           -0.330030   \n",
       "collab_teachers                             0.240320           -0.248044   \n",
       "support_environ                             0.307892           -0.304059   \n",
       "effective_school_leadership                 0.196734           -0.216479   \n",
       "strong_fam_community_ties                   0.148121           -0.131471   \n",
       "trust                                       0.189838           -0.197162   \n",
       "english_language_learners                   0.022556            0.001900   \n",
       "students_disabilities                      -0.600727            0.620374   \n",
       "self_contained                             -0.527554            0.585541   \n",
       "economic_need_index                        -0.595275            0.661037   \n",
       "temp_housing                               -0.675000            0.714920   \n",
       "hra_eligible                               -0.612891            0.678965   \n",
       "asian                                       0.550251           -0.524275   \n",
       "black                                      -0.527154            0.544508   \n",
       "hispanic                                   -0.220465            0.235486   \n",
       "white                                       0.453114           -0.516741   \n",
       "teachers_3_or_more_yrs_exp                  0.166721           -0.152347   \n",
       "student_attendance_rate                     1.000000           -0.962100   \n",
       "chronically_absent                         -0.962100            1.000000   \n",
       "teacher_attendance_rate                     0.105897           -0.117978   \n",
       "majority_white                              0.068005           -0.091760   \n",
       "majority_asian                              0.213958           -0.181320   \n",
       "majority_black                             -0.141387            0.146792   \n",
       "majority_hispanic                           0.010654           -0.005509   \n",
       "75_pct_economic_need_index                 -0.542233            0.592113   \n",
       "\n",
       "                             teacher_attendance_rate  majority_white  \\\n",
       "enrollment                                 -0.119966        0.038167   \n",
       "rigorous_instruction                        0.145128        0.058073   \n",
       "collab_teachers                             0.166541        0.044132   \n",
       "support_environ                             0.136418        0.030942   \n",
       "effective_school_leadership                 0.140200        0.024854   \n",
       "strong_fam_community_ties                   0.092489        0.066950   \n",
       "trust                                       0.139378        0.022648   \n",
       "english_language_learners                  -0.106997       -0.065153   \n",
       "students_disabilities                      -0.035149       -0.072147   \n",
       "self_contained                             -0.162907       -0.063902   \n",
       "economic_need_index                        -0.112157       -0.204043   \n",
       "temp_housing                               -0.046712       -0.123255   \n",
       "hra_eligible                               -0.128466       -0.189874   \n",
       "asian                                      -0.014547       -0.047215   \n",
       "black                                      -0.009190       -0.089068   \n",
       "hispanic                                   -0.065005       -0.109815   \n",
       "white                                       0.102116        0.327640   \n",
       "teachers_3_or_more_yrs_exp                 -0.200273        0.023564   \n",
       "student_attendance_rate                     0.105897        0.068005   \n",
       "chronically_absent                         -0.117978       -0.091760   \n",
       "teacher_attendance_rate                     1.000000        0.003012   \n",
       "majority_white                              0.003012        1.000000   \n",
       "majority_asian                              0.016510       -0.011489   \n",
       "majority_black                              0.014048       -0.025570   \n",
       "majority_hispanic                          -0.043891       -0.039224   \n",
       "75_pct_economic_need_index                 -0.054578       -0.116453   \n",
       "\n",
       "                             majority_asian  majority_black  \\\n",
       "enrollment                         0.093670       -0.143273   \n",
       "rigorous_instruction               0.052343       -0.022216   \n",
       "collab_teachers                    0.053516        0.018456   \n",
       "support_environ                    0.105643       -0.058866   \n",
       "effective_school_leadership        0.047625        0.041127   \n",
       "strong_fam_community_ties          0.054725        0.034732   \n",
       "trust                              0.062374       -0.010581   \n",
       "english_language_learners          0.193572       -0.204660   \n",
       "students_disabilities             -0.144789        0.067924   \n",
       "self_contained                    -0.094939        0.089730   \n",
       "economic_need_index                0.011758        0.056054   \n",
       "temp_housing                      -0.094862        0.083939   \n",
       "hra_eligible                       0.013202        0.057770   \n",
       "asian                              0.462926       -0.174240   \n",
       "black                             -0.122776        0.587634   \n",
       "hispanic                          -0.158853       -0.334778   \n",
       "white                             -0.068994       -0.163951   \n",
       "teachers_3_or_more_yrs_exp         0.033240        0.073545   \n",
       "student_attendance_rate            0.213958       -0.141387   \n",
       "chronically_absent                -0.181320        0.146792   \n",
       "teacher_attendance_rate            0.016510        0.014048   \n",
       "majority_white                    -0.011489       -0.025570   \n",
       "majority_asian                     1.000000       -0.035142   \n",
       "majority_black                    -0.035142        1.000000   \n",
       "majority_hispanic                 -0.053908       -0.119979   \n",
       "75_pct_economic_need_index        -0.022072        0.022162   \n",
       "\n",
       "                             majority_hispanic  75_pct_economic_need_index  \n",
       "enrollment                           -0.013227                   -0.215181  \n",
       "rigorous_instruction                 -0.024676                   -0.243812  \n",
       "collab_teachers                      -0.015410                   -0.179527  \n",
       "support_environ                       0.003231                   -0.236749  \n",
       "effective_school_leadership          -0.010601                   -0.120736  \n",
       "strong_fam_community_ties             0.001447                   -0.176056  \n",
       "trust                                 0.038604                   -0.105276  \n",
       "english_language_learners             0.470329                    0.395583  \n",
       "students_disabilities                 0.070095                    0.459596  \n",
       "self_contained                        0.102079                    0.456474  \n",
       "economic_need_index                   0.293933                    0.820053  \n",
       "temp_housing                          0.263629                    0.696363  \n",
       "hra_eligible                          0.282700                    0.830507  \n",
       "asian                                -0.251987                   -0.348267  \n",
       "black                                -0.282513                    0.269688  \n",
       "hispanic                              0.675400                    0.477181  \n",
       "white                                -0.247538                   -0.618021  \n",
       "teachers_3_or_more_yrs_exp           -0.061122                   -0.225010  \n",
       "student_attendance_rate               0.010654                   -0.542233  \n",
       "chronically_absent                   -0.005509                    0.592113  \n",
       "teacher_attendance_rate              -0.043891                   -0.054578  \n",
       "majority_white                       -0.039224                   -0.116453  \n",
       "majority_asian                       -0.053908                   -0.022072  \n",
       "majority_black                       -0.119979                    0.022162  \n",
       "majority_hispanic                     1.000000                    0.295606  \n",
       "75_pct_economic_need_index            0.295606                    1.000000  \n",
       "\n",
       "[26 rows x 26 columns]"
      ]
     },
     "execution_count": 43,
     "metadata": {},
     "output_type": "execute_result"
    }
   ],
   "source": [
    "corr"
   ]
  },
  {
   "cell_type": "code",
   "execution_count": 44,
   "metadata": {
    "scrolled": true
   },
   "outputs": [
    {
     "data": {
      "image/png": "[encoded data removed]",
      "text/plain": [
       "<Figure size 792x648 with 2 Axes>"
      ]
     },
     "metadata": {},
     "output_type": "display_data"
    }
   ],
   "source": [
    "def CorrMtx(df, dropDuplicates = True):\n",
    "    # Exclude duplicate correlations by masking uper right values\n",
    "    if dropDuplicates:    \n",
    "        mask = np.zeros_like(df, dtype=np.bool)\n",
    "        mask[np.triu_indices_from(mask)] = True\n",
    "\n",
    "    # Set background color / chart style\n",
    "    sns.set_style(style = 'white')\n",
    "\n",
    "    # Set up  matplotlib figure\n",
    "    f, ax = plt.subplots(figsize=(11, 9))\n",
    "\n",
    "    # Add diverging colormap from red to blue\n",
    "    cmap = sns.diverging_palette(150, 10, as_cmap=True)\n",
    "    \n",
    "    # Draw correlation plot with or without duplicates\n",
    "    if dropDuplicates:\n",
    "        sns.heatmap(df, mask=mask, cmap=cmap, \n",
    "                square=True,\n",
    "                linewidth=.5, cbar_kws={\"shrink\": .5}, ax=ax)\n",
    "    else:\n",
    "        sns.heatmap(df, cmap=cmap, \n",
    "                square=True,\n",
    "                linewidth=.5, cbar_kws={\"shrink\": .5}, ax=ax)\n",
    "\n",
    "CorrMtx(corr, dropDuplicates = True)"
   ]
  },
  {
   "cell_type": "markdown",
   "metadata": {},
   "source": [
    "The general pattern of correlation matrix above shows a fairly even distribution of features with both positive and negative correlations. In the chart I noticed a strong negative correlation between chronically absences and student attendance rates, giving credence to the question posed earlier of finding a statistically significance between chronic absences and attendance rates."
   ]
  },
  {
   "cell_type": "markdown",
   "metadata": {},
   "source": [
    "---"
   ]
  },
  {
   "cell_type": "markdown",
   "metadata": {},
   "source": [
    "### Test - 2"
   ]
  },
  {
   "cell_type": "code",
   "execution_count": 18,
   "metadata": {},
   "outputs": [
    {
     "data": {
      "text/plain": [
       "Ttest_1sampResult(statistic=-34.407841253697434, pvalue=6.810396597146418e-170)"
      ]
     },
     "execution_count": 18,
     "metadata": {},
     "output_type": "execute_result"
    }
   ],
   "source": [
    "stats.ttest_1samp(a= df.teachers_3_or_more_yrs_exp,               # Sample data\n",
    "                 popmean= df.student_attendance_rate.mean())  # Pop mean"
   ]
  },
  {
   "cell_type": "markdown",
   "metadata": {},
   "source": [
    "According to my test statistic of -34.40 and miniscule p-value, I can conclude that there is a statistical difference between teachers with 3 or more years of experience and student attendance rates. In this case I can reject the null hypothesis that there is no statistically significant difference."
   ]
  },
  {
   "cell_type": "markdown",
   "metadata": {},
   "source": [
    "---"
   ]
  },
  {
   "cell_type": "markdown",
   "metadata": {},
   "source": [
    "### Test - 3"
   ]
  },
  {
   "cell_type": "code",
   "execution_count": 46,
   "metadata": {},
   "outputs": [
    {
     "name": "stdout",
     "output_type": "stream",
     "text": [
      "F statistic = 564.940 and probability p = 0.000\n"
     ]
    }
   ],
   "source": [
    "F, p = stats.f_oneway(df.student_attendance_rate, df.economic_need_index_cat)\n",
    "print('F statistic = {:5.3f} and probability p = {:5.3f}'.format(F, p)) "
   ]
  },
  {
   "cell_type": "code",
   "execution_count": null,
   "metadata": {},
   "outputs": [],
   "source": []
  },
  {
   "cell_type": "markdown",
   "metadata": {},
   "source": [
    "---"
   ]
  },
  {
   "cell_type": "markdown",
   "metadata": {},
   "source": [
    "## Big Answers"
   ]
  },
  {
   "cell_type": "markdown",
   "metadata": {},
   "source": [
    "---"
   ]
  },
  {
   "cell_type": "markdown",
   "metadata": {},
   "source": [
    "**3 meaningful answers**<br>\n",
    "-<br>\n",
    "-<br>\n",
    "-<br>"
   ]
  },
  {
   "cell_type": "markdown",
   "metadata": {},
   "source": [
    "---"
   ]
  },
  {
   "cell_type": "markdown",
   "metadata": {},
   "source": [
    "# <font color='yellow'>Exploratory Data Analysis</font>"
   ]
  },
  {
   "cell_type": "markdown",
   "metadata": {},
   "source": [
    "---"
   ]
  },
  {
   "cell_type": "markdown",
   "metadata": {},
   "source": [
    "## Visualizations"
   ]
  },
  {
   "cell_type": "markdown",
   "metadata": {},
   "source": [
    "---"
   ]
  },
  {
   "cell_type": "markdown",
   "metadata": {},
   "source": [
    "### Visual - 1"
   ]
  },
  {
   "cell_type": "markdown",
   "metadata": {},
   "source": [
    "**Explanation/Interpretation**"
   ]
  },
  {
   "cell_type": "markdown",
   "metadata": {},
   "source": [
    "---"
   ]
  },
  {
   "cell_type": "markdown",
   "metadata": {},
   "source": [
    "### Visual - 2"
   ]
  },
  {
   "cell_type": "markdown",
   "metadata": {},
   "source": [
    "**Explanation/Interpretation**"
   ]
  },
  {
   "cell_type": "markdown",
   "metadata": {},
   "source": [
    "---"
   ]
  },
  {
   "cell_type": "markdown",
   "metadata": {},
   "source": [
    "### Visual - 3"
   ]
  },
  {
   "cell_type": "markdown",
   "metadata": {},
   "source": [
    "**Explanation/Interpretation**"
   ]
  },
  {
   "cell_type": "markdown",
   "metadata": {},
   "source": [
    "---"
   ]
  },
  {
   "cell_type": "markdown",
   "metadata": {},
   "source": [
    "### Visual - 4"
   ]
  },
  {
   "cell_type": "markdown",
   "metadata": {},
   "source": [
    "**Explanation/Interpretation**"
   ]
  },
  {
   "cell_type": "markdown",
   "metadata": {},
   "source": [
    "---"
   ]
  },
  {
   "cell_type": "markdown",
   "metadata": {},
   "source": [
    "# <font color='yellow'>Test/Train Split</font>"
   ]
  },
  {
   "cell_type": "markdown",
   "metadata": {},
   "source": [
    "Set dependent variable to \"y\"\n",
    "Drop dependent variable column and set to \"X\""
   ]
  },
  {
   "cell_type": "code",
   "execution_count": null,
   "metadata": {},
   "outputs": [],
   "source": [
    "y = df[['dep_variable']]\n",
    "X = df.drop(['dep_variable'], axis=1)"
   ]
  },
  {
   "cell_type": "markdown",
   "metadata": {},
   "source": [
    "Get train/test split"
   ]
  },
  {
   "cell_type": "code",
   "execution_count": null,
   "metadata": {},
   "outputs": [],
   "source": [
    "X_train, X_test, y_train, y_test = train_test_split(X, y, test_size=0.2, random_state=42)"
   ]
  },
  {
   "cell_type": "markdown",
   "metadata": {},
   "source": [
    "Fit training data to linear regression model and set to variable \"linreg\""
   ]
  },
  {
   "cell_type": "code",
   "execution_count": null,
   "metadata": {},
   "outputs": [],
   "source": [
    "linreg = LinearRegression().fit(X_train, y_train)"
   ]
  },
  {
   "cell_type": "markdown",
   "metadata": {},
   "source": [
    "Get array of values for predictions from training and test sets"
   ]
  },
  {
   "cell_type": "code",
   "execution_count": null,
   "metadata": {},
   "outputs": [],
   "source": [
    "y_hat_train = linreg.predict(X_train)\n",
    "y_hat_test = linreg.predict(X_test)"
   ]
  },
  {
   "cell_type": "markdown",
   "metadata": {},
   "source": [
    "Get prediction results (MSE and RMSE)"
   ]
  },
  {
   "cell_type": "code",
   "execution_count": null,
   "metadata": {},
   "outputs": [],
   "source": [
    "mse_train = np.sum((y_train-y_hat_train)**2)/len(y_train)\n",
    "mse_test = np.sum((y_test-y_hat_test)**2)/len(y_test)\n",
    "print('Train MSE:', mse_train)\n",
    "print('Test MSE:', mse_test)\n",
    "print('Train RMSE:', np.sqrt(mse_train))\n",
    "print('Test RMSE:', np.sqrt(mse_test))"
   ]
  },
  {
   "cell_type": "markdown",
   "metadata": {},
   "source": [
    "# <font color='yellow'>Modeling Results</font>"
   ]
  },
  {
   "cell_type": "markdown",
   "metadata": {},
   "source": [
    "---"
   ]
  },
  {
   "cell_type": "markdown",
   "metadata": {},
   "source": [
    "### Model 1"
   ]
  },
  {
   "cell_type": "markdown",
   "metadata": {},
   "source": [
    "**Parameters:**<br>\n",
    "fjdksla;<br>\n",
    "fjdksla;<br>\n",
    "fjdksla;<br>\n",
    "fdjskal;<br>\n",
    "\n",
    "<br>\n",
    "\n",
    "|Measurement|Result|\n",
    "|---------|--------|\n",
    "|Test RMSE|0.432342|\n",
    "|Train RMSE|0.432342|\n",
    "|R^2|0.432342|\n",
    "\n",
    "<br>\n",
    "\n",
    "**Explanation:**<br>\n",
    "fjdksla;fd jfkdls;afjkdlsa; fdjksal;f jkl;adsf jkl;afds jkl;sadf jkl;sda fjkl;adsf jkl;dsf jkl;dsa fjkl;dsaf jkl;asdf jklds;f jkl;sdaf jkl;sdf jklsd;a fjkl;dsf jkl;sdf jkl;fds jkl;asdf jkl;dsfa jkl;dfs jkl;"
   ]
  },
  {
   "cell_type": "markdown",
   "metadata": {},
   "source": [
    "---"
   ]
  },
  {
   "cell_type": "markdown",
   "metadata": {},
   "source": [
    "### Model 2"
   ]
  },
  {
   "cell_type": "markdown",
   "metadata": {},
   "source": [
    "**Parameters:**<br>\n",
    "fjdksla;<br>\n",
    "fjdksla;<br>\n",
    "fjdksla;<br>\n",
    "fdjskal;<br>\n",
    "\n",
    "<br>\n",
    "\n",
    "|Measurement|Result|\n",
    "|---------|--------|\n",
    "|Test RMSE|0.432342|\n",
    "|Train RMSE|0.432342|\n",
    "|R^2|0.432342|\n",
    "\n",
    "<br>\n",
    "\n",
    "**Explanation:**<br>\n",
    "fjdksla;fd jfkdls;afjkdlsa; fdjksal;f jkl;adsf jkl;afds jkl;sadf jkl;sda fjkl;adsf jkl;dsf jkl;dsa fjkl;dsaf jkl;asdf jklds;f jkl;sdaf jkl;sdf jklsd;a fjkl;dsf jkl;sdf jkl;fds jkl;asdf jkl;dsfa jkl;dfs jkl;"
   ]
  },
  {
   "cell_type": "markdown",
   "metadata": {},
   "source": [
    "---"
   ]
  },
  {
   "cell_type": "markdown",
   "metadata": {},
   "source": [
    "### Model 3"
   ]
  },
  {
   "cell_type": "markdown",
   "metadata": {},
   "source": [
    "**Parameters:**<br>\n",
    "fjdksla;<br>\n",
    "fjdksla;<br>\n",
    "fjdksla;<br>\n",
    "fdjskal;<br>\n",
    "\n",
    "<br>\n",
    "\n",
    "|Measurement|Result|\n",
    "|---------|--------|\n",
    "|Test RMSE|0.432342|\n",
    "|Train RMSE|0.432342|\n",
    "|R^2|0.432342|\n",
    "\n",
    "<br>\n",
    "\n",
    "**Explanation:**<br>\n",
    "fjdksla;fd jfkdls;afjkdlsa; fdjksal;f jkl;adsf jkl;afds jkl;sadf jkl;sda fjkl;adsf jkl;dsf jkl;dsa fjkl;dsaf jkl;asdf jklds;f jkl;sdaf jkl;sdf jklsd;a fjkl;dsf jkl;sdf jkl;fds jkl;asdf jkl;dsfa jkl;dfs jkl;"
   ]
  },
  {
   "cell_type": "markdown",
   "metadata": {},
   "source": [
    "---"
   ]
  },
  {
   "cell_type": "markdown",
   "metadata": {},
   "source": [
    "### Final Model"
   ]
  },
  {
   "cell_type": "markdown",
   "metadata": {},
   "source": [
    "**Parameters:**<br>\n",
    "fjdksla;<br>\n",
    "fjdksla;<br>\n",
    "fjdksla;<br>\n",
    "fdjskal;<br>\n",
    "\n",
    "<br>\n",
    "\n",
    "|Measurement|Result|\n",
    "|---------|--------|\n",
    "|Test RMSE|0.432342|\n",
    "|Train RMSE|0.432342|\n",
    "|R^2|0.432342|\n",
    "\n",
    "<br>\n",
    "\n",
    "**Explanation:**<br>\n",
    "Explain the final model<br>\n",
    "Pick 3 coefficients from final model and explain impact on dependent var"
   ]
  }
 ],
 "metadata": {
  "kernelspec": {
   "display_name": "Python 3",
   "language": "python",
   "name": "python3"
  },
  "language_info": {
   "codemirror_mode": {
    "name": "ipython",
    "version": 3
   },
   "file_extension": ".py",
   "mimetype": "text/x-python",
   "name": "python",
   "nbconvert_exporter": "python",
   "pygments_lexer": "ipython3",
   "version": "3.7.6"
  }
 },
 "nbformat": 4,
 "nbformat_minor": 4
}
