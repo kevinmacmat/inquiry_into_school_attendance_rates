{
 "cells": [
  {
   "cell_type": "markdown",
   "metadata": {},
   "source": [
    "Import modules"
   ]
  },
  {
   "cell_type": "code",
   "execution_count": 57,
   "metadata": {},
   "outputs": [],
   "source": [
    "import pandas as pd\n",
    "import matplotlib.pyplot as plt\n",
    "import seaborn as sns\n",
    "import numpy as np\n",
    "import statsmodels.api as sm\n",
    "import pickle\n",
    "import re\n",
    "from statsmodels.formula.api import ols\n",
    "from sklearn.model_selection import train_test_split\n",
    "from sklearn.linear_model import LinearRegression\n",
    "from sklearn.linear_model import Lasso\n",
    "from sklearn.preprocessing import StandardScaler\n",
    "from sklearn import metrics"
   ]
  },
  {
   "cell_type": "markdown",
   "metadata": {},
   "source": [
    "---"
   ]
  },
  {
   "cell_type": "markdown",
   "metadata": {},
   "source": [
    "### Census Data"
   ]
  },
  {
   "cell_type": "markdown",
   "metadata": {},
   "source": [
    "https://www.census.gov/data/datasets/2016/demo/saipe/2016-state-and-county.html"
   ]
  },
  {
   "cell_type": "markdown",
   "metadata": {},
   "source": [
    "Read in data"
   ]
  },
  {
   "cell_type": "code",
   "execution_count": 58,
   "metadata": {},
   "outputs": [],
   "source": [
    "pre_census_df = pd.read_excel('est16us.xls', index_col=1)"
   ]
  },
  {
   "cell_type": "markdown",
   "metadata": {},
   "source": [
    "Remove NaN values"
   ]
  },
  {
   "cell_type": "code",
   "execution_count": 59,
   "metadata": {
    "scrolled": true
   },
   "outputs": [],
   "source": [
    "pre_census_df = pre_census_df.dropna()"
   ]
  },
  {
   "cell_type": "markdown",
   "metadata": {},
   "source": [
    "Change header to the first row"
   ]
  },
  {
   "cell_type": "code",
   "execution_count": 60,
   "metadata": {},
   "outputs": [],
   "source": [
    "headers = pre_census_df.iloc[0]\n",
    "census_df  = pd.DataFrame(pre_census_df.values[1:], columns=headers)"
   ]
  },
  {
   "cell_type": "code",
   "execution_count": 61,
   "metadata": {},
   "outputs": [
    {
     "data": {
      "text/plain": [
       "(52, 29)"
      ]
     },
     "execution_count": 61,
     "metadata": {},
     "output_type": "execute_result"
    }
   ],
   "source": [
    "census_df.shape"
   ]
  },
  {
   "cell_type": "markdown",
   "metadata": {},
   "source": []
  },
  {
   "cell_type": "markdown",
   "metadata": {},
   "source": []
  },
  {
   "cell_type": "markdown",
   "metadata": {},
   "source": [
    "---"
   ]
  },
  {
   "cell_type": "markdown",
   "metadata": {},
   "source": [
    "### Governing Data"
   ]
  },
  {
   "cell_type": "markdown",
   "metadata": {},
   "source": [
    "https://www.governing.com/gov-data/education-data/state-education-spending-per-pupil-data.html"
   ]
  },
  {
   "cell_type": "markdown",
   "metadata": {},
   "source": [
    "Read in file"
   ]
  },
  {
   "cell_type": "code",
   "execution_count": 62,
   "metadata": {},
   "outputs": [],
   "source": [
    "gov = pd.read_html('https://www.governing.com/gov-data/education-data/state-education-spending-per-pupil-data.html')"
   ]
  },
  {
   "cell_type": "code",
   "execution_count": 63,
   "metadata": {},
   "outputs": [],
   "source": [
    "gov_df = pd.DataFrame(gov[0])"
   ]
  },
  {
   "cell_type": "markdown",
   "metadata": {},
   "source": [
    "Remove State column to concat"
   ]
  },
  {
   "cell_type": "code",
   "execution_count": 64,
   "metadata": {},
   "outputs": [],
   "source": [
    "gov_df = gov_df.drop(columns=['State'])"
   ]
  },
  {
   "cell_type": "code",
   "execution_count": 65,
   "metadata": {},
   "outputs": [
    {
     "data": {
      "text/plain": [
       "(52, 6)"
      ]
     },
     "execution_count": 65,
     "metadata": {},
     "output_type": "execute_result"
    }
   ],
   "source": [
    "gov_df.shape"
   ]
  },
  {
   "cell_type": "markdown",
   "metadata": {},
   "source": []
  },
  {
   "cell_type": "markdown",
   "metadata": {},
   "source": []
  },
  {
   "cell_type": "markdown",
   "metadata": {},
   "source": [
    "---"
   ]
  },
  {
   "cell_type": "markdown",
   "metadata": {},
   "source": [
    "### NAEP (National Assessment of Education Progress)"
   ]
  },
  {
   "cell_type": "markdown",
   "metadata": {},
   "source": [
    "https://www.nationsreportcard.gov/profiles/stateprofile?chort=2&sub=RED&sj=&sfj=NP&st=MN&year=2017R3"
   ]
  },
  {
   "cell_type": "markdown",
   "metadata": {},
   "source": [
    "Read in file"
   ]
  },
  {
   "cell_type": "code",
   "execution_count": 66,
   "metadata": {},
   "outputs": [],
   "source": [
    "naep_df = pd.read_excel('NDECoreExcel_Reading, Grade 8, All students_20200505183321.Xls')"
   ]
  },
  {
   "cell_type": "markdown",
   "metadata": {},
   "source": [
    "Drop column"
   ]
  },
  {
   "cell_type": "code",
   "execution_count": 67,
   "metadata": {},
   "outputs": [],
   "source": [
    "naep_df = naep_df.drop(columns=' ')"
   ]
  },
  {
   "cell_type": "code",
   "execution_count": 68,
   "metadata": {},
   "outputs": [],
   "source": [
    "naep_df = naep_df.drop(columns='Unnamed: 2')"
   ]
  },
  {
   "cell_type": "markdown",
   "metadata": {},
   "source": [
    "Drop rows"
   ]
  },
  {
   "cell_type": "code",
   "execution_count": 69,
   "metadata": {},
   "outputs": [],
   "source": [
    "naep_df = naep_df.drop(naep_df.index[:8])"
   ]
  },
  {
   "cell_type": "code",
   "execution_count": 70,
   "metadata": {},
   "outputs": [],
   "source": [
    "naep_df = naep_df.drop(naep_df.tail(4).index,inplace=False)"
   ]
  },
  {
   "cell_type": "code",
   "execution_count": 71,
   "metadata": {},
   "outputs": [],
   "source": [
    "naep_df = naep_df.drop([18])"
   ]
  },
  {
   "cell_type": "markdown",
   "metadata": {},
   "source": [
    "Rename Columns"
   ]
  },
  {
   "cell_type": "code",
   "execution_count": 72,
   "metadata": {},
   "outputs": [],
   "source": [
    "naep_df = naep_df.rename(columns={\"Unnamed: 1\": \"Name\", \"Unnamed: 3\": \"Avg_score\"})"
   ]
  },
  {
   "cell_type": "markdown",
   "metadata": {},
   "source": [
    "Reset Index"
   ]
  },
  {
   "cell_type": "code",
   "execution_count": 73,
   "metadata": {},
   "outputs": [],
   "source": [
    "naep_df = naep_df.reset_index()"
   ]
  },
  {
   "cell_type": "markdown",
   "metadata": {},
   "source": [
    "Drop old index and name column"
   ]
  },
  {
   "cell_type": "code",
   "execution_count": 74,
   "metadata": {},
   "outputs": [],
   "source": [
    "naep_df = naep_df.drop(columns=['index'])"
   ]
  },
  {
   "cell_type": "code",
   "execution_count": 75,
   "metadata": {},
   "outputs": [],
   "source": [
    "naep_df = naep_df.drop(columns=['Name'])"
   ]
  },
  {
   "cell_type": "code",
   "execution_count": 76,
   "metadata": {
    "scrolled": true
   },
   "outputs": [
    {
     "data": {
      "text/plain": [
       "(52, 1)"
      ]
     },
     "execution_count": 76,
     "metadata": {},
     "output_type": "execute_result"
    }
   ],
   "source": [
    "naep_df.shape"
   ]
  },
  {
   "cell_type": "code",
   "execution_count": 77,
   "metadata": {},
   "outputs": [
    {
     "data": {
      "text/html": [
       "<div>\n",
       "<style scoped>\n",
       "    .dataframe tbody tr th:only-of-type {\n",
       "        vertical-align: middle;\n",
       "    }\n",
       "\n",
       "    .dataframe tbody tr th {\n",
       "        vertical-align: top;\n",
       "    }\n",
       "\n",
       "    .dataframe thead th {\n",
       "        text-align: right;\n",
       "    }\n",
       "</style>\n",
       "<table border=\"1\" class=\"dataframe\">\n",
       "  <thead>\n",
       "    <tr style=\"text-align: right;\">\n",
       "      <th></th>\n",
       "      <th>Avg_score</th>\n",
       "    </tr>\n",
       "  </thead>\n",
       "  <tbody>\n",
       "    <tr>\n",
       "      <th>0</th>\n",
       "      <td>266.578</td>\n",
       "    </tr>\n",
       "    <tr>\n",
       "      <th>1</th>\n",
       "      <td>257.687</td>\n",
       "    </tr>\n",
       "    <tr>\n",
       "      <th>2</th>\n",
       "      <td>257.667</td>\n",
       "    </tr>\n",
       "    <tr>\n",
       "      <th>3</th>\n",
       "      <td>262.957</td>\n",
       "    </tr>\n",
       "    <tr>\n",
       "      <th>4</th>\n",
       "      <td>259.956</td>\n",
       "    </tr>\n",
       "  </tbody>\n",
       "</table>\n",
       "</div>"
      ],
      "text/plain": [
       "  Avg_score\n",
       "0   266.578\n",
       "1   257.687\n",
       "2   257.667\n",
       "3   262.957\n",
       "4   259.956"
      ]
     },
     "execution_count": 77,
     "metadata": {},
     "output_type": "execute_result"
    }
   ],
   "source": [
    "naep_df.head()"
   ]
  },
  {
   "cell_type": "code",
   "execution_count": null,
   "metadata": {},
   "outputs": [],
   "source": []
  },
  {
   "cell_type": "markdown",
   "metadata": {},
   "source": [
    "---"
   ]
  },
  {
   "cell_type": "markdown",
   "metadata": {},
   "source": [
    "### Rural vs Urban"
   ]
  },
  {
   "cell_type": "markdown",
   "metadata": {},
   "source": [
    "https://www.nationalpopularvote.com/rural-states-are-almost-entirely-ignored-under-current-state-state-system"
   ]
  },
  {
   "cell_type": "markdown",
   "metadata": {},
   "source": [
    "Read Excel"
   ]
  },
  {
   "cell_type": "code",
   "execution_count": 78,
   "metadata": {},
   "outputs": [],
   "source": [
    "rur_urb_df = pd.read_html('https://www.nationalpopularvote.com/rural-states-are-almost-entirely-ignored-under-current-state-state-system')"
   ]
  },
  {
   "cell_type": "code",
   "execution_count": 79,
   "metadata": {
    "scrolled": true
   },
   "outputs": [],
   "source": [
    "rur_urb_df = rur_urb_df[0]"
   ]
  },
  {
   "cell_type": "markdown",
   "metadata": {},
   "source": [
    "Remove \"Total\" Row"
   ]
  },
  {
   "cell_type": "code",
   "execution_count": 80,
   "metadata": {},
   "outputs": [],
   "source": [
    "rur_urb_df = rur_urb_df.drop(rur_urb_df.index[-1])"
   ]
  },
  {
   "cell_type": "markdown",
   "metadata": {},
   "source": [
    "Replace Values and Names"
   ]
  },
  {
   "cell_type": "code",
   "execution_count": 81,
   "metadata": {},
   "outputs": [],
   "source": [
    "rur_urb_df = rur_urb_df.replace(to_replace='N.H.', value='New Hampshire')"
   ]
  },
  {
   "cell_type": "code",
   "execution_count": 82,
   "metadata": {},
   "outputs": [],
   "source": [
    "rur_urb_df = rur_urb_df.replace(to_replace='D.C.', value='District of Columbia')"
   ]
  },
  {
   "cell_type": "markdown",
   "metadata": {},
   "source": [
    "Change column names"
   ]
  },
  {
   "cell_type": "code",
   "execution_count": 83,
   "metadata": {},
   "outputs": [],
   "source": [
    "rur_urb_df = rur_urb_df.rename(columns={0: 'Name', 1: 'total_pop', 2: 'urban_suburban_pop', 3: 'rural_pop', 4: 'rural_pct', 5: 'index'})"
   ]
  },
  {
   "cell_type": "markdown",
   "metadata": {},
   "source": [
    "Remove state row"
   ]
  },
  {
   "cell_type": "code",
   "execution_count": 84,
   "metadata": {},
   "outputs": [],
   "source": [
    "rur_urb_df = rur_urb_df.drop(rur_urb_df.index[0])"
   ]
  },
  {
   "cell_type": "markdown",
   "metadata": {},
   "source": [
    "Sort Values"
   ]
  },
  {
   "cell_type": "code",
   "execution_count": 85,
   "metadata": {},
   "outputs": [],
   "source": [
    "rur_urb_df = rur_urb_df.sort_values(by='Name', ascending=True)"
   ]
  },
  {
   "cell_type": "markdown",
   "metadata": {},
   "source": [
    "Reset Index"
   ]
  },
  {
   "cell_type": "code",
   "execution_count": 86,
   "metadata": {},
   "outputs": [],
   "source": [
    "rur_urb_df = rur_urb_df.reset_index()"
   ]
  },
  {
   "cell_type": "markdown",
   "metadata": {},
   "source": [
    "Drop old index and rename column"
   ]
  },
  {
   "cell_type": "code",
   "execution_count": 87,
   "metadata": {},
   "outputs": [],
   "source": [
    "rur_urb_df = rur_urb_df.drop(columns=['level_0'])"
   ]
  },
  {
   "cell_type": "markdown",
   "metadata": {},
   "source": [
    "Add US row to top"
   ]
  },
  {
   "cell_type": "code",
   "execution_count": 88,
   "metadata": {},
   "outputs": [],
   "source": [
    "rur_urb_df.loc[-1] = ['United States', 308745538, 249253271, 59492267, '19.27%', 100]  # adding a row\n",
    "rur_urb_df.index = rur_urb_df.index + 1  # shifting index\n",
    "rur_urb_df.sort_index(inplace=True)"
   ]
  },
  {
   "cell_type": "code",
   "execution_count": 89,
   "metadata": {
    "scrolled": true
   },
   "outputs": [
    {
     "data": {
      "text/plain": [
       "(52, 6)"
      ]
     },
     "execution_count": 89,
     "metadata": {},
     "output_type": "execute_result"
    }
   ],
   "source": [
    "rur_urb_df.shape"
   ]
  },
  {
   "cell_type": "markdown",
   "metadata": {},
   "source": []
  },
  {
   "cell_type": "markdown",
   "metadata": {},
   "source": []
  },
  {
   "cell_type": "markdown",
   "metadata": {},
   "source": [
    "---"
   ]
  },
  {
   "cell_type": "markdown",
   "metadata": {},
   "source": [
    "### Concat Dataframes"
   ]
  },
  {
   "cell_type": "code",
   "execution_count": 90,
   "metadata": {},
   "outputs": [],
   "source": [
    "cg_df = pd.concat([census_df, gov_df], axis=1)"
   ]
  },
  {
   "cell_type": "code",
   "execution_count": 91,
   "metadata": {},
   "outputs": [],
   "source": [
    "df = pd.concat([cg_df, naep_df], axis=1)"
   ]
  },
  {
   "cell_type": "code",
   "execution_count": 92,
   "metadata": {},
   "outputs": [],
   "source": [
    "df = pd.concat([df, rur_urb_df], axis=1)"
   ]
  },
  {
   "cell_type": "markdown",
   "metadata": {},
   "source": [
    "---"
   ]
  },
  {
   "cell_type": "markdown",
   "metadata": {},
   "source": [
    "### Clean concatted dataframe"
   ]
  },
  {
   "cell_type": "markdown",
   "metadata": {},
   "source": [
    "Remove duplicate name column"
   ]
  },
  {
   "cell_type": "code",
   "execution_count": 93,
   "metadata": {},
   "outputs": [],
   "source": [
    "df = df.loc[:,~df.columns.duplicated()]"
   ]
  },
  {
   "cell_type": "markdown",
   "metadata": {},
   "source": [
    "Remove unnessecary columns"
   ]
  },
  {
   "cell_type": "code",
   "execution_count": 94,
   "metadata": {},
   "outputs": [],
   "source": [
    "df = df.drop(columns=['State FIPS Code', 'index'])"
   ]
  },
  {
   "cell_type": "code",
   "execution_count": 95,
   "metadata": {},
   "outputs": [],
   "source": [
    "# practice_df = df"
   ]
  },
  {
   "cell_type": "markdown",
   "metadata": {},
   "source": [
    "Convert columns with strings to integers"
   ]
  },
  {
   "cell_type": "code",
   "execution_count": 96,
   "metadata": {},
   "outputs": [],
   "source": [
    "df['Total Per Pupil Spending'] = df['Total Per Pupil Spending'].replace('[\\$,]', '', regex=True).astype(float)"
   ]
  },
  {
   "cell_type": "code",
   "execution_count": 97,
   "metadata": {},
   "outputs": [],
   "source": [
    "df['Total Spending (in Ks)'] = df['Total Spending (in Ks)'].replace('[\\$,]', '', regex=True).astype(float)"
   ]
  },
  {
   "cell_type": "code",
   "execution_count": 98,
   "metadata": {},
   "outputs": [],
   "source": [
    "df['Instruction Spending Per Pupil'] = df['Instruction Spending Per Pupil'].replace('[\\$,]', '', regex=True).astype(float)"
   ]
  },
  {
   "cell_type": "code",
   "execution_count": 99,
   "metadata": {},
   "outputs": [],
   "source": [
    "df['Instruction Spending (in Ks)'] = df['Instruction Spending (in Ks)'].replace('[\\$,]', '', regex=True).astype(float)"
   ]
  },
  {
   "cell_type": "code",
   "execution_count": 100,
   "metadata": {},
   "outputs": [],
   "source": [
    "df['Support Services Per Pupil'] = df['Support Services Per Pupil'].replace('[\\$,]', '', regex=True).astype(float)"
   ]
  },
  {
   "cell_type": "code",
   "execution_count": 101,
   "metadata": {},
   "outputs": [],
   "source": [
    "df['Support Services (in Ks)'] = df['Support Services (in Ks)'].replace('[\\$,]', '', regex=True).astype(float)"
   ]
  },
  {
   "cell_type": "code",
   "execution_count": 102,
   "metadata": {},
   "outputs": [],
   "source": [
    "df['rural_pct'] = df['rural_pct'].replace('[\\%,]', '', regex=True).astype(float)"
   ]
  },
  {
   "cell_type": "markdown",
   "metadata": {},
   "source": [
    "Multiply spending columns by 100"
   ]
  },
  {
   "cell_type": "code",
   "execution_count": 103,
   "metadata": {},
   "outputs": [],
   "source": [
    "df['Total Spending (in Ks)'] = df['Total Spending (in Ks)'].apply(lambda x: x*1000)"
   ]
  },
  {
   "cell_type": "code",
   "execution_count": 104,
   "metadata": {},
   "outputs": [],
   "source": [
    "df['Instruction Spending (in Ks)'] = df['Instruction Spending (in Ks)'].apply(lambda x: x*1000)"
   ]
  },
  {
   "cell_type": "code",
   "execution_count": 105,
   "metadata": {},
   "outputs": [],
   "source": [
    "df['Support Services (in Ks)'] = df['Support Services (in Ks)'].apply(lambda x: x*1000)"
   ]
  },
  {
   "cell_type": "markdown",
   "metadata": {},
   "source": [
    "Change Column Names"
   ]
  },
  {
   "cell_type": "code",
   "execution_count": 106,
   "metadata": {},
   "outputs": [],
   "source": [
    "df = practice_df.rename(columns={'Name': 'states', \n",
    "                                        'Poverty Estimate, All Ages': 'pov_estimate_all_ages', \n",
    "                                        '90% CI Lower Bound': '90_pct_ci_lower_bound', \n",
    "                                        '90% CI Upper Bound': '90_pct_ci_upper_bound', \n",
    "                                        'Poverty Percent, All Ages': 'pov_pct_all_ages', \n",
    "                                        'Poverty Estimate, Age 0-17': 'pov_estimate_age_0-17',\n",
    "                                        'Poverty Percent, Age 0-17': 'pov_pct_age_0-17',\n",
    "                                        'Poverty Estimate, Age 5-17 in Families': 'pov_estimate_age_5-17_in_families',\n",
    "                                        'Poverty Percent, Age 5-17 in Families': 'pov_pct_age_5-17_in_families',\n",
    "                                        'Median Household Income':'median_household_income',\n",
    "                                        'Poverty Estimate, Age 0-4':'pov_estimate_age_0-4',\n",
    "                                        'Poverty Percent, Age 0-4':'pov_pct_age_0-4',\n",
    "                                        'Total Per Pupil Spending':'total_per_pupil_spending',\n",
    "                                        'Total Spending (in Ks)':'total_spending',\n",
    "                                        'Instruction Spending Per Pupil':'instruction_spending_per_pupil',\n",
    "                                        'Instruction Spending (in Ks)':'instruction_spending',\n",
    "                                        'Support Services Per Pupil':'support_services_per_pupil',\n",
    "                                        'Support Services (in Ks)':'support_services',\n",
    "                                        'Avg_score':'avg_score'})"
   ]
  },
  {
   "cell_type": "code",
   "execution_count": 108,
   "metadata": {},
   "outputs": [],
   "source": [
    "df.to_csv('education_data.csv')"
   ]
  },
  {
   "cell_type": "markdown",
   "metadata": {},
   "source": [
    "---"
   ]
  },
  {
   "cell_type": "code",
   "execution_count": null,
   "metadata": {},
   "outputs": [],
   "source": [
    "Feature Selection Methods\n",
    "\n",
    "# training the model with lasso\n",
    "\n",
    "lasso = Lasso(alpha=0.05, normalize=False)\n",
    "\n",
    "lasso.fit(X_train_poly,y_train)\n",
    "\n",
    "y_train_pred = lasso.predict(X_train_poly)\n",
    "\n",
    "y_pred = lasso.predict(X_test_poly)\n",
    "\n",
    "train_rmse = metrics.mean_absolute_error(y_train, y_train_pred)\n",
    "\n",
    "test_rmse = np.sqrt(metrics.mean_squared_error(y_test, y_pred))\n",
    "\n",
    "print('Training Error: '+ str(train_rmse) )\n",
    "\n",
    "print('Testing Error: '+ str(test_rmse) )\n",
    "\n",
    "Training Error: 0.0217727388654729\n",
    "Testing Error: 0.02572163524215997\n",
    "\n",
    "#displaying coefficients with lasso model\n",
    "\n",
    "lasso_coef01 = pd.DataFrame(data=lasso.coef_).T\n",
    "\n",
    "lasso_coef01.columns = X_train_poly.columns\n",
    "\n",
    "lasso_coef01 = lasso_coef01.T.sort_values(by=0).T\n",
    "\n",
    "lasso_coef01.plot(kind='bar', title='Modal Coefficients', legend=False, figsize=(16,8))\n",
    "\n",
    "<matplotlib.axes._subplots.AxesSubplot at 0x1a1fdaa950>\n",
    "\n",
    "# checking for any coefficients that converge to 0\n",
    "\n",
    "lasso_coef01.T\n",
    "\n",
    "\t0\n",
    "collab_teachers \t0.0\n",
    "asianXwhite \t0.0\n",
    "asianXhispanic \t0.0\n",
    "asianXblack \t0.0\n",
    "asian^2 \t0.0\n",
    "... \t...\n",
    "strong_fam_community_tiesXasian \t0.0\n",
    "strong_fam_community_tiesXeconomic_need_index \t-0.0\n",
    "strong_fam_community_tiesXself_contained \t-0.0\n",
    "english_language_learnersXself_contained \t-0.0\n",
    "majority_black^2 \t-0.0\n",
    "\n",
    "119 rows × 1 columns\n"
   ]
  },
  {
   "cell_type": "code",
   "execution_count": null,
   "metadata": {},
   "outputs": [],
   "source": [
    "Polynomial Features\n",
    "\n",
    "from sklearn.preprocessing import PolynomialFeatures\n",
    "\n",
    "poly= PolynomialFeatures(degree=2, include_bias=False) \n",
    "\n",
    "poly_train=poly.fit_transform(X_train)\n",
    "\n",
    "poly_test= poly.fit_transform(X_test)\n",
    "\n",
    "poly_cols=poly.get_feature_names(X_train.columns)\n",
    "\n",
    "poly_cols=[col.replace(' ','X') for col in poly_cols]\n",
    "\n",
    "X_train_poly=pd.DataFrame(data=poly_train,columns=poly_cols)\n",
    "\n",
    "X_test_poly=pd.DataFrame(data=poly_test,columns=poly_cols)\n",
    "\n",
    "Polynomial features testing\n",
    "\n",
    "# Set dependent variable to \"y\"\n",
    "\n",
    "# Drop dependent variable column and set to \"X\"\n",
    "\n",
    "y = df[['student_attendance_rate_cap']]\n",
    "\n",
    "X = predictors\n",
    "\n",
    "# Get train/test split\n",
    "\n",
    "X_train, X_test, y_train, y_test = train_test_split(X, y, test_size=0.2, random_state=42)\n",
    "\n",
    "# Fit training data to linear regression model and set to variable \"linreg\"\n",
    "\n",
    "linreg = LinearRegression().fit(X_train_poly, y_train)\n",
    "\n",
    "# Get array of values for predictions from training and test sets\n",
    "\n",
    "y_hat_train = linreg.predict(X_train_poly)\n",
    "\n",
    "y_hat_test = linreg.predict(X_test_poly)\n",
    "\n",
    "# Get prediction results (MSE and RMSE)\n",
    "\n",
    "mse_train = np.sum((y_train-y_hat_train)**2)/len(y_train)\n",
    "\n",
    "mse_test = np.sum((y_test-y_hat_test)**2)/len(y_test)\n",
    "\n",
    "print('Train MSE:', mse_train)\n",
    "\n",
    "print('Test MSE:', mse_test)\n",
    "\n",
    "print('Train RMSE:', np.sqrt(mse_train))\n",
    "\n",
    "print('Test RMSE:', np.sqrt(mse_test))"
   ]
  }
 ],
 "metadata": {
  "kernelspec": {
   "display_name": "Python 3",
   "language": "python",
   "name": "python3"
  },
  "language_info": {
   "codemirror_mode": {
    "name": "ipython",
    "version": 3
   },
   "file_extension": ".py",
   "mimetype": "text/x-python",
   "name": "python",
   "nbconvert_exporter": "python",
   "pygments_lexer": "ipython3",
   "version": "3.7.6"
  }
 },
 "nbformat": 4,
 "nbformat_minor": 4
}
