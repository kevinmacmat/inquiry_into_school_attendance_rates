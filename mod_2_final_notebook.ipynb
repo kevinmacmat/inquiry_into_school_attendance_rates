{
 "cells": [
  {
   "cell_type": "markdown",
   "metadata": {},
   "source": [
    "# <font color='yellow'>Import Modules</font>"
   ]
  },
  {
   "cell_type": "code",
   "execution_count": 1,
   "metadata": {},
   "outputs": [],
   "source": [
    "import pandas as pd\n",
    "import matplotlib.pyplot as plt\n",
    "import seaborn as sns\n",
    "import numpy as np\n",
    "import statsmodels.api as sm\n",
    "import pickle\n",
    "from statsmodels.formula.api import ols\n",
    "from sklearn.model_selection import train_test_split\n",
    "from sklearn.linear_model import LinearRegression\n",
    "from sklearn.linear_model import Lasso\n",
    "from sklearn.preprocessing import StandardScaler\n",
    "from sklearn import metrics"
   ]
  },
  {
   "cell_type": "markdown",
   "metadata": {},
   "source": [
    "---"
   ]
  },
  {
   "cell_type": "markdown",
   "metadata": {},
   "source": [
    "# <font color='yellow'>Exploratory Data Analysis</font>"
   ]
  },
  {
   "cell_type": "markdown",
   "metadata": {},
   "source": [
    "---"
   ]
  },
  {
   "cell_type": "markdown",
   "metadata": {},
   "source": [
    "## Approach"
   ]
  },
  {
   "cell_type": "markdown",
   "metadata": {},
   "source": [
    "I intend to predict the average reading scores"
   ]
  },
  {
   "cell_type": "markdown",
   "metadata": {},
   "source": [
    "**1 - 2 paragraphs detailing approach**<br>\n",
    "-<br>\n",
    "-<br>\n",
    "-<br>\n",
    "-<br>\n",
    "-<br>"
   ]
  },
  {
   "cell_type": "markdown",
   "metadata": {},
   "source": [
    "---"
   ]
  },
  {
   "cell_type": "markdown",
   "metadata": {},
   "source": [
    "## Big Questions"
   ]
  },
  {
   "cell_type": "markdown",
   "metadata": {},
   "source": [
    "**3 meaningful questions**<br>\n",
    "-<br>\n",
    "-<br>\n",
    "-<br>"
   ]
  },
  {
   "cell_type": "markdown",
   "metadata": {},
   "source": [
    "---"
   ]
  },
  {
   "cell_type": "markdown",
   "metadata": {},
   "source": [
    "## Visualizations"
   ]
  },
  {
   "cell_type": "markdown",
   "metadata": {},
   "source": [
    "### Visual - 1"
   ]
  },
  {
   "cell_type": "markdown",
   "metadata": {},
   "source": [
    "**Explanation/Interpretation**"
   ]
  },
  {
   "cell_type": "markdown",
   "metadata": {},
   "source": [
    "### Visual - 2"
   ]
  },
  {
   "cell_type": "markdown",
   "metadata": {},
   "source": [
    "**Explanation/Interpretation**"
   ]
  },
  {
   "cell_type": "markdown",
   "metadata": {},
   "source": [
    "### Visual - 3"
   ]
  },
  {
   "cell_type": "markdown",
   "metadata": {},
   "source": [
    "**Explanation/Interpretation**"
   ]
  },
  {
   "cell_type": "markdown",
   "metadata": {},
   "source": [
    "### Visual - 4"
   ]
  },
  {
   "cell_type": "markdown",
   "metadata": {},
   "source": [
    "**Explanation/Interpretation**"
   ]
  },
  {
   "cell_type": "markdown",
   "metadata": {},
   "source": [
    "---"
   ]
  },
  {
   "cell_type": "markdown",
   "metadata": {},
   "source": [
    "## Big Answers"
   ]
  },
  {
   "cell_type": "markdown",
   "metadata": {},
   "source": [
    "**3 meaningful answers**<br>\n",
    "-<br>\n",
    "-<br>\n",
    "-<br>"
   ]
  },
  {
   "cell_type": "markdown",
   "metadata": {},
   "source": [
    "---"
   ]
  },
  {
   "cell_type": "markdown",
   "metadata": {},
   "source": [
    "# <font color='yellow'>Statistical Tests</font>"
   ]
  },
  {
   "cell_type": "markdown",
   "metadata": {},
   "source": [
    "---"
   ]
  },
  {
   "cell_type": "markdown",
   "metadata": {},
   "source": [
    "### Test - 1"
   ]
  },
  {
   "cell_type": "markdown",
   "metadata": {},
   "source": [
    "**Explain results/conclusions**"
   ]
  },
  {
   "cell_type": "markdown",
   "metadata": {},
   "source": [
    "### Test - 2"
   ]
  },
  {
   "cell_type": "markdown",
   "metadata": {},
   "source": [
    "**Explain results/conclusions**"
   ]
  },
  {
   "cell_type": "markdown",
   "metadata": {},
   "source": [
    "### Test - 3"
   ]
  },
  {
   "cell_type": "markdown",
   "metadata": {},
   "source": [
    "**Explain results/conclusions**"
   ]
  },
  {
   "cell_type": "markdown",
   "metadata": {},
   "source": [
    "---"
   ]
  },
  {
   "cell_type": "markdown",
   "metadata": {},
   "source": [
    "# <font color='yellow'>Modeling Results</font>"
   ]
  },
  {
   "cell_type": "markdown",
   "metadata": {},
   "source": [
    "---"
   ]
  },
  {
   "cell_type": "markdown",
   "metadata": {},
   "source": [
    "### Model 1"
   ]
  },
  {
   "cell_type": "markdown",
   "metadata": {},
   "source": [
    "**Parameters:**<br>\n",
    "fjdksla;<br>\n",
    "fjdksla;<br>\n",
    "fjdksla;<br>\n",
    "fdjskal;<br>\n",
    "\n",
    "<br>\n",
    "\n",
    "|Measurement|Result|\n",
    "|---------|--------|\n",
    "|Test RMSE|0.432342|\n",
    "|Train RMSE|0.432342|\n",
    "|R^2|0.432342|\n",
    "\n",
    "<br>\n",
    "\n",
    "**Explanation:**<br>\n",
    "fjdksla;fd jfkdls;afjkdlsa; fdjksal;f jkl;adsf jkl;afds jkl;sadf jkl;sda fjkl;adsf jkl;dsf jkl;dsa fjkl;dsaf jkl;asdf jklds;f jkl;sdaf jkl;sdf jklsd;a fjkl;dsf jkl;sdf jkl;fds jkl;asdf jkl;dsfa jkl;dfs jkl;"
   ]
  },
  {
   "cell_type": "markdown",
   "metadata": {},
   "source": [
    "### Model 2"
   ]
  },
  {
   "cell_type": "markdown",
   "metadata": {},
   "source": [
    "**Parameters:**<br>\n",
    "fjdksla;<br>\n",
    "fjdksla;<br>\n",
    "fjdksla;<br>\n",
    "fdjskal;<br>\n",
    "\n",
    "<br>\n",
    "\n",
    "|Measurement|Result|\n",
    "|---------|--------|\n",
    "|Test RMSE|0.432342|\n",
    "|Train RMSE|0.432342|\n",
    "|R^2|0.432342|\n",
    "\n",
    "<br>\n",
    "\n",
    "**Explanation:**<br>\n",
    "fjdksla;fd jfkdls;afjkdlsa; fdjksal;f jkl;adsf jkl;afds jkl;sadf jkl;sda fjkl;adsf jkl;dsf jkl;dsa fjkl;dsaf jkl;asdf jklds;f jkl;sdaf jkl;sdf jklsd;a fjkl;dsf jkl;sdf jkl;fds jkl;asdf jkl;dsfa jkl;dfs jkl;"
   ]
  },
  {
   "cell_type": "markdown",
   "metadata": {},
   "source": [
    "### Model 3"
   ]
  },
  {
   "cell_type": "markdown",
   "metadata": {},
   "source": [
    "**Parameters:**<br>\n",
    "fjdksla;<br>\n",
    "fjdksla;<br>\n",
    "fjdksla;<br>\n",
    "fdjskal;<br>\n",
    "\n",
    "<br>\n",
    "\n",
    "|Measurement|Result|\n",
    "|---------|--------|\n",
    "|Test RMSE|0.432342|\n",
    "|Train RMSE|0.432342|\n",
    "|R^2|0.432342|\n",
    "\n",
    "<br>\n",
    "\n",
    "**Explanation:**<br>\n",
    "fjdksla;fd jfkdls;afjkdlsa; fdjksal;f jkl;adsf jkl;afds jkl;sadf jkl;sda fjkl;adsf jkl;dsf jkl;dsa fjkl;dsaf jkl;asdf jklds;f jkl;sdaf jkl;sdf jklsd;a fjkl;dsf jkl;sdf jkl;fds jkl;asdf jkl;dsfa jkl;dfs jkl;"
   ]
  },
  {
   "cell_type": "markdown",
   "metadata": {},
   "source": [
    "### Final Model"
   ]
  },
  {
   "cell_type": "markdown",
   "metadata": {},
   "source": [
    "**Parameters:**<br>\n",
    "fjdksla;<br>\n",
    "fjdksla;<br>\n",
    "fjdksla;<br>\n",
    "fdjskal;<br>\n",
    "\n",
    "<br>\n",
    "\n",
    "|Measurement|Result|\n",
    "|---------|--------|\n",
    "|Test RMSE|0.432342|\n",
    "|Train RMSE|0.432342|\n",
    "|R^2|0.432342|\n",
    "\n",
    "<br>\n",
    "\n",
    "**Explanation:**<br>\n",
    "Explain the final model<br>\n",
    "Pick 3 coefficients from final model and explain impact on dependent var"
   ]
  }
 ],
 "metadata": {
  "kernelspec": {
   "display_name": "Python 3",
   "language": "python",
   "name": "python3"
  },
  "language_info": {
   "codemirror_mode": {
    "name": "ipython",
    "version": 3
   },
   "file_extension": ".py",
   "mimetype": "text/x-python",
   "name": "python",
   "nbconvert_exporter": "python",
   "pygments_lexer": "ipython3",
   "version": "3.7.6"
  }
 },
 "nbformat": 4,
 "nbformat_minor": 4
}
